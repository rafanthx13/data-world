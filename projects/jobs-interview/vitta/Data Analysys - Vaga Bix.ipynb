{
 "cells": [
  {
   "cell_type": "markdown",
   "id": "7c9ee402",
   "metadata": {
    "slideshow": {
     "slide_type": "slide"
    }
   },
   "source": [
    "# BIX Tecnologia] Teste de Excel\n",
    "\n",
    "\n",
    "Na planilha há quatro abas:\n",
    "\n",
    "--> Dados de venda\n",
    "- ID: identificador único de uma venda\n",
    "- ProductID: identificador único de um produto\n",
    "- ClientID: identificador único de um cliente\n",
    "- Discount: desconto aplicado em uma venda\n",
    "- UnitPrice: preço unitário de um produto vendido\n",
    "- Quantity: quantidade de produto vendido em uma venda\n",
    "- StoreID: identificador único de uma loja\n",
    "- Date: data de uma venda\n",
    "\n",
    "--> Dados de consumidores\n",
    "- ID: identificador único de um consumidor\n",
    "- City: cidade/localidade onde um consumidor fez a compra\n",
    "- State: Unidade Federativa onde um consumidor fez a compra\n",
    "- DateOfBirth: data de nascimento de um consumidor\n",
    "- Sex: sexo de um consumidor\n",
    "\n",
    "--> Dados de lojas\n",
    "- ID: identificador único de uma loja\n",
    "- Name: cidade/localidade de uma loja\n",
    "- State: Unidade Federativa de uma loja\n",
    "\n",
    "--> Dados de produto\n",
    "- ID: identificador único de um produto\n",
    "- Name: nome de um produto\n",
    "- Size: tamanho de um produto"
   ]
  },
  {
   "cell_type": "markdown",
   "id": "cd667058",
   "metadata": {
    "slideshow": {
     "slide_type": "slide"
    }
   },
   "source": [
    "\n",
    "1. Qual das respostas abaixo descreve a melhor maneira de organizar as etapas em um projeto com estes dados? \n",
    "\n",
    "\n",
    "+ [X] Validar dados com área de negócio, Análise Exploratória de Dados (EDA), Separação do conjunto de dados, pré processamento e transformações, Modelo inicial (baseline), validação preliminar área de negócio, Tunagem do modelo, construção do pipeline, subir modelo para produção.\n",
    "+ Análise Exploratória de Dados (EDA), pré processamento e transformações, construção de pipeline, Validar dados com área de negócio, Modelo inicial (baseline), validação preliminar área de negócio, Tunagem do modelo, subir modelo para produção.\n",
    "+ Validar dados com área de negócio, Modelo inicial (baseline), pré processamento e transformações, Análise Exploratória de Dados (EDA), validação preliminar área de negócio, Tunagem do modelo, construção do pipeline, subir modelo para produção.\n",
    "+ Validar dados com área de negócio, construção do pipeline, Análise Exploratória de Dados (EDA), Modelo inicial (baseline), subir modelo para produção, validação preliminar área de negócio, Tunagem do modelo.\n",
    "\n",
    "2. Com base nos dados da planilha anexada, qual tipo de modelo você escolheria para prever o valor total que será vendido por uma loja no próximo mês? \n",
    "\n",
    "\n",
    "Modelos não supervisionados.\n",
    "Modelos de aprendizado por reforço.\n",
    "Modelos de classificação.\n",
    "Modelos de forecasting.\n",
    "\n",
    "3. Se dois dos produtos na base de dados tem forte correlação positiva entre seus comportamento de vendas, qual gráfico abaixo melhor representaria essa relação?\n",
    "\n",
    "C pois é asencente\n",
    "\n",
    "4. Com base nos dados da planilha anexada, você deseja criar um algoritmo para prever a probabilidade de um cliente comprar um produto. Como você faria a divisão dos dados nas etapas de treinamento? Nota: Por validação entende-se o conjunto usado para ajustar hiper-parâmetros, e por teste entende-se o conjunto de dados não visto em treino nem em validação. \n",
    "\n",
    "\n",
    "50% treino e 50% validação\n",
    "60% treino, 20% validação e 20 % teste\n",
    "30% treino, 60% validação e 10% teste\n",
    "10% treino, 60% validação e 30 % teste\n",
    "\n",
    "Letra B"
   ]
  },
  {
   "cell_type": "code",
   "execution_count": 1,
   "id": "b5339445",
   "metadata": {
    "ExecuteTime": {
     "end_time": "2022-04-11T14:11:02.122205Z",
     "start_time": "2022-04-11T14:11:01.261737Z"
    }
   },
   "outputs": [
    {
     "name": "stdout",
     "output_type": "stream",
     "text": [
      "Available Themes: \n",
      "   chesterish\n",
      "   grade3\n",
      "   gruvboxd\n",
      "   gruvboxl\n",
      "   monokai\n",
      "   oceans16\n",
      "   onedork\n",
      "   solarizedd\n",
      "   solarizedl\n"
     ]
    }
   ],
   "source": [
    "! jt -l"
   ]
  },
  {
   "cell_type": "code",
   "execution_count": 3,
   "id": "01f9188a",
   "metadata": {
    "ExecuteTime": {
     "end_time": "2022-04-11T14:11:26.934029Z",
     "start_time": "2022-04-11T14:11:25.175678Z"
    }
   },
   "outputs": [],
   "source": [
    "! jt -t chesterish"
   ]
  },
  {
   "cell_type": "code",
   "execution_count": 4,
   "id": "8362307e",
   "metadata": {
    "ExecuteTime": {
     "end_time": "2022-04-11T13:56:09.304629Z",
     "start_time": "2022-04-11T13:56:08.916870Z"
    },
    "scrolled": true
   },
   "outputs": [
    {
     "ename": "AttributeError",
     "evalue": "module 'jinja2.ext' has no attribute 'with_'",
     "output_type": "error",
     "traceback": [
      "\u001b[1;31m---------------------------------------------------------------------------\u001b[0m",
      "\u001b[1;31mAttributeError\u001b[0m                            Traceback (most recent call last)",
      "Input \u001b[1;32mIn [4]\u001b[0m, in \u001b[0;36m<cell line: 1>\u001b[1;34m()\u001b[0m\n\u001b[1;32m----> 1\u001b[0m \u001b[38;5;28;01mimport\u001b[39;00m \u001b[38;5;21;01mpixiedust\u001b[39;00m\n",
      "File \u001b[1;32mC:\\Python310\\lib\\site-packages\\pixiedust\\__init__.py:59\u001b[0m, in \u001b[0;36m<module>\u001b[1;34m\u001b[0m\n\u001b[0;32m     57\u001b[0m \u001b[38;5;28;01mtry\u001b[39;00m:\n\u001b[0;32m     58\u001b[0m     \u001b[38;5;28;01mfrom\u001b[39;00m \u001b[38;5;21;01mIPython\u001b[39;00m\u001b[38;5;21;01m.\u001b[39;00m\u001b[38;5;21;01mcore\u001b[39;00m\u001b[38;5;21;01m.\u001b[39;00m\u001b[38;5;21;01mgetipython\u001b[39;00m \u001b[38;5;28;01mimport\u001b[39;00m get_ipython\n\u001b[1;32m---> 59\u001b[0m     \u001b[38;5;28;01mfrom\u001b[39;00m \u001b[38;5;21;01mpixiedust\u001b[39;00m\u001b[38;5;21;01m.\u001b[39;00m\u001b[38;5;21;01mdisplay\u001b[39;00m \u001b[38;5;28;01mimport\u001b[39;00m display\n\u001b[0;32m     60\u001b[0m     \u001b[38;5;28;01mimport\u001b[39;00m \u001b[38;5;21;01mpixiedust\u001b[39;00m\u001b[38;5;21;01m.\u001b[39;00m\u001b[38;5;21;01mservices\u001b[39;00m\n\u001b[0;32m     61\u001b[0m     \u001b[38;5;28;01mif\u001b[39;00m \u001b[38;5;124m\"\u001b[39m\u001b[38;5;124mdisplay\u001b[39m\u001b[38;5;124m\"\u001b[39m \u001b[38;5;129;01mnot\u001b[39;00m \u001b[38;5;129;01min\u001b[39;00m get_ipython()\u001b[38;5;241m.\u001b[39muser_ns:\n\u001b[0;32m     62\u001b[0m         \u001b[38;5;66;03m#be nice, only set the display variable on the user namespace if it's not already taken\u001b[39;00m\n",
      "File \u001b[1;32mC:\\Python310\\lib\\site-packages\\pixiedust\\display\\__init__.py:39\u001b[0m, in \u001b[0;36m<module>\u001b[1;34m\u001b[0m\n\u001b[0;32m     36\u001b[0m     \u001b[38;5;28;01mglobal\u001b[39;00m displayRunListeners\n\u001b[0;32m     37\u001b[0m     displayRunListeners\u001b[38;5;241m.\u001b[39mappend(listener)\n\u001b[1;32m---> 39\u001b[0m \u001b[38;5;28;01mfrom\u001b[39;00m \u001b[38;5;21;01m.\u001b[39;00m\u001b[38;5;21;01mdisplay\u001b[39;00m \u001b[38;5;28;01mimport\u001b[39;00m \u001b[38;5;241m*\u001b[39m\n\u001b[0;32m     40\u001b[0m \u001b[38;5;28;01mfrom\u001b[39;00m \u001b[38;5;21;01m.\u001b[39;00m\u001b[38;5;21;01mchart\u001b[39;00m \u001b[38;5;28;01mimport\u001b[39;00m \u001b[38;5;241m*\u001b[39m\n\u001b[0;32m     41\u001b[0m \u001b[38;5;28;01mif\u001b[39;00m PD_Environment\u001b[38;5;241m.\u001b[39mhasSpark:\n",
      "File \u001b[1;32mC:\\Python310\\lib\\site-packages\\pixiedust\\display\\display.py:186\u001b[0m, in \u001b[0;36m<module>\u001b[1;34m\u001b[0m\n\u001b[0;32m    182\u001b[0m     \u001b[38;5;28;01mdef\u001b[39;00m \u001b[38;5;21mcreateCategories\u001b[39m(\u001b[38;5;28mself\u001b[39m):\n\u001b[0;32m    183\u001b[0m         \u001b[38;5;28;01mreturn\u001b[39;00m []\n\u001b[0;32m    185\u001b[0m \u001b[38;5;129m@Logger\u001b[39m()\n\u001b[1;32m--> 186\u001b[0m \u001b[38;5;28;01mclass\u001b[39;00m \u001b[38;5;21;01mDisplay\u001b[39;00m(with_metaclass(ABCMeta)):\n\u001b[0;32m    187\u001b[0m \n\u001b[0;32m    188\u001b[0m     \u001b[38;5;66;03m#global jinja2 Environment\u001b[39;00m\n\u001b[0;32m    189\u001b[0m     env \u001b[38;5;241m=\u001b[39m PixiedustTemplateEnvironment()\n\u001b[0;32m    191\u001b[0m     \u001b[38;5;28;01mdef\u001b[39;00m \u001b[38;5;21m__init__\u001b[39m(\u001b[38;5;28mself\u001b[39m, options, entity, dataHandler\u001b[38;5;241m=\u001b[39m\u001b[38;5;28;01mNone\u001b[39;00m):\n",
      "File \u001b[1;32mC:\\Python310\\lib\\site-packages\\pixiedust\\display\\display.py:189\u001b[0m, in \u001b[0;36mDisplay\u001b[1;34m()\u001b[0m\n\u001b[0;32m    185\u001b[0m \u001b[38;5;129m@Logger\u001b[39m()\n\u001b[0;32m    186\u001b[0m \u001b[38;5;28;01mclass\u001b[39;00m \u001b[38;5;21;01mDisplay\u001b[39;00m(with_metaclass(ABCMeta)):\n\u001b[0;32m    187\u001b[0m \n\u001b[0;32m    188\u001b[0m     \u001b[38;5;66;03m#global jinja2 Environment\u001b[39;00m\n\u001b[1;32m--> 189\u001b[0m     env \u001b[38;5;241m=\u001b[39m \u001b[43mPixiedustTemplateEnvironment\u001b[49m\u001b[43m(\u001b[49m\u001b[43m)\u001b[49m\n\u001b[0;32m    191\u001b[0m     \u001b[38;5;28;01mdef\u001b[39;00m \u001b[38;5;21m__init__\u001b[39m(\u001b[38;5;28mself\u001b[39m, options, entity, dataHandler\u001b[38;5;241m=\u001b[39m\u001b[38;5;28;01mNone\u001b[39;00m):\n\u001b[0;32m    192\u001b[0m         \u001b[38;5;28mself\u001b[39m\u001b[38;5;241m.\u001b[39mentity\u001b[38;5;241m=\u001b[39mentity\n",
      "File \u001b[1;32mC:\\Python310\\lib\\site-packages\\pixiedust\\utils\\template.py:77\u001b[0m, in \u001b[0;36mPixiedustTemplateEnvironment.__init__\u001b[1;34m(self, baseModule)\u001b[0m\n\u001b[0;32m     75\u001b[0m     frm \u001b[38;5;241m=\u001b[39m inspect\u001b[38;5;241m.\u001b[39mstack()[\u001b[38;5;241m1\u001b[39m]\n\u001b[0;32m     76\u001b[0m     baseModule \u001b[38;5;241m=\u001b[39m inspect\u001b[38;5;241m.\u001b[39mgetmodule(frm[\u001b[38;5;241m0\u001b[39m])\u001b[38;5;241m.\u001b[39m\u001b[38;5;18m__name__\u001b[39m\n\u001b[1;32m---> 77\u001b[0m \u001b[38;5;28mself\u001b[39m\u001b[38;5;241m.\u001b[39menv \u001b[38;5;241m=\u001b[39m \u001b[43mEnvironment\u001b[49m\u001b[43m(\u001b[49m\u001b[43mloader\u001b[49m\u001b[38;5;241;43m=\u001b[39;49m\u001b[43mPixiedustTemplateLoader\u001b[49m\u001b[43m(\u001b[49m\u001b[43mbaseModule\u001b[49m\u001b[43m)\u001b[49m\u001b[43m,\u001b[49m\u001b[43mextensions\u001b[49m\u001b[38;5;241;43m=\u001b[39;49m\u001b[43m[\u001b[49m\u001b[38;5;124;43m'\u001b[39;49m\u001b[38;5;124;43mjinja2.ext.with_\u001b[39;49m\u001b[38;5;124;43m'\u001b[39;49m\u001b[43m]\u001b[49m\u001b[43m)\u001b[49m\n\u001b[0;32m     78\u001b[0m \u001b[38;5;28mself\u001b[39m\u001b[38;5;241m.\u001b[39menv\u001b[38;5;241m.\u001b[39mfilters[\u001b[38;5;124m\"\u001b[39m\u001b[38;5;124moneline\u001b[39m\u001b[38;5;124m\"\u001b[39m]\u001b[38;5;241m=\u001b[39m\u001b[38;5;28;01mlambda\u001b[39;00m s:reduce(\u001b[38;5;28;01mlambda\u001b[39;00m s, l: s\u001b[38;5;241m+\u001b[39ml, s\u001b[38;5;241m.\u001b[39msplit(\u001b[38;5;124m\"\u001b[39m\u001b[38;5;130;01m\\n\u001b[39;00m\u001b[38;5;124m\"\u001b[39m), \u001b[38;5;124m\"\u001b[39m\u001b[38;5;124m\"\u001b[39m) \u001b[38;5;28;01mif\u001b[39;00m s \u001b[38;5;28;01melse\u001b[39;00m s\n\u001b[0;32m     79\u001b[0m \u001b[38;5;28mself\u001b[39m\u001b[38;5;241m.\u001b[39menv\u001b[38;5;241m.\u001b[39mfilters[\u001b[38;5;124m\"\u001b[39m\u001b[38;5;124mbase64dataUri\u001b[39m\u001b[38;5;124m\"\u001b[39m]\u001b[38;5;241m=\u001b[39m\u001b[38;5;28;01mlambda\u001b[39;00m s: \u001b[38;5;124m'\u001b[39m\u001b[38;5;124mdata:image/png;base64,\u001b[39m\u001b[38;5;132;01m{0}\u001b[39;00m\u001b[38;5;124m'\u001b[39m\u001b[38;5;241m.\u001b[39mformat(\u001b[38;5;28mself\u001b[39m\u001b[38;5;241m.\u001b[39mgetTemplate(s\u001b[38;5;241m+\u001b[39m\u001b[38;5;124m\"\u001b[39m\u001b[38;5;124m#base64\u001b[39m\u001b[38;5;124m\"\u001b[39m)\u001b[38;5;241m.\u001b[39mrender())\n",
      "File \u001b[1;32mC:\\Python310\\lib\\site-packages\\jinja2\\environment.py:363\u001b[0m, in \u001b[0;36mEnvironment.__init__\u001b[1;34m(self, block_start_string, block_end_string, variable_start_string, variable_end_string, comment_start_string, comment_end_string, line_statement_prefix, line_comment_prefix, trim_blocks, lstrip_blocks, newline_sequence, keep_trailing_newline, extensions, optimized, undefined, finalize, autoescape, loader, cache_size, auto_reload, bytecode_cache, enable_async)\u001b[0m\n\u001b[0;32m    360\u001b[0m \u001b[38;5;28mself\u001b[39m\u001b[38;5;241m.\u001b[39mpolicies \u001b[38;5;241m=\u001b[39m DEFAULT_POLICIES\u001b[38;5;241m.\u001b[39mcopy()\n\u001b[0;32m    362\u001b[0m \u001b[38;5;66;03m# load extensions\u001b[39;00m\n\u001b[1;32m--> 363\u001b[0m \u001b[38;5;28mself\u001b[39m\u001b[38;5;241m.\u001b[39mextensions \u001b[38;5;241m=\u001b[39m \u001b[43mload_extensions\u001b[49m\u001b[43m(\u001b[49m\u001b[38;5;28;43mself\u001b[39;49m\u001b[43m,\u001b[49m\u001b[43m \u001b[49m\u001b[43mextensions\u001b[49m\u001b[43m)\u001b[49m\n\u001b[0;32m    365\u001b[0m \u001b[38;5;28mself\u001b[39m\u001b[38;5;241m.\u001b[39mis_async \u001b[38;5;241m=\u001b[39m enable_async\n\u001b[0;32m    366\u001b[0m _environment_config_check(\u001b[38;5;28mself\u001b[39m)\n",
      "File \u001b[1;32mC:\\Python310\\lib\\site-packages\\jinja2\\environment.py:117\u001b[0m, in \u001b[0;36mload_extensions\u001b[1;34m(environment, extensions)\u001b[0m\n\u001b[0;32m    115\u001b[0m \u001b[38;5;28;01mfor\u001b[39;00m extension \u001b[38;5;129;01min\u001b[39;00m extensions:\n\u001b[0;32m    116\u001b[0m     \u001b[38;5;28;01mif\u001b[39;00m \u001b[38;5;28misinstance\u001b[39m(extension, \u001b[38;5;28mstr\u001b[39m):\n\u001b[1;32m--> 117\u001b[0m         extension \u001b[38;5;241m=\u001b[39m t\u001b[38;5;241m.\u001b[39mcast(t\u001b[38;5;241m.\u001b[39mType[\u001b[38;5;124m\"\u001b[39m\u001b[38;5;124mExtension\u001b[39m\u001b[38;5;124m\"\u001b[39m], \u001b[43mimport_string\u001b[49m\u001b[43m(\u001b[49m\u001b[43mextension\u001b[49m\u001b[43m)\u001b[49m)\n\u001b[0;32m    119\u001b[0m     result[extension\u001b[38;5;241m.\u001b[39midentifier] \u001b[38;5;241m=\u001b[39m extension(environment)\n\u001b[0;32m    121\u001b[0m \u001b[38;5;28;01mreturn\u001b[39;00m result\n",
      "File \u001b[1;32mC:\\Python310\\lib\\site-packages\\jinja2\\utils.py:149\u001b[0m, in \u001b[0;36mimport_string\u001b[1;34m(import_name, silent)\u001b[0m\n\u001b[0;32m    147\u001b[0m     \u001b[38;5;28;01melse\u001b[39;00m:\n\u001b[0;32m    148\u001b[0m         \u001b[38;5;28;01mreturn\u001b[39;00m \u001b[38;5;28m__import__\u001b[39m(import_name)\n\u001b[1;32m--> 149\u001b[0m     \u001b[38;5;28;01mreturn\u001b[39;00m \u001b[38;5;28;43mgetattr\u001b[39;49m\u001b[43m(\u001b[49m\u001b[38;5;28;43m__import__\u001b[39;49m\u001b[43m(\u001b[49m\u001b[43mmodule\u001b[49m\u001b[43m,\u001b[49m\u001b[43m \u001b[49m\u001b[38;5;28;43;01mNone\u001b[39;49;00m\u001b[43m,\u001b[49m\u001b[43m \u001b[49m\u001b[38;5;28;43;01mNone\u001b[39;49;00m\u001b[43m,\u001b[49m\u001b[43m \u001b[49m\u001b[43m[\u001b[49m\u001b[43mobj\u001b[49m\u001b[43m]\u001b[49m\u001b[43m)\u001b[49m\u001b[43m,\u001b[49m\u001b[43m \u001b[49m\u001b[43mobj\u001b[49m\u001b[43m)\u001b[49m\n\u001b[0;32m    150\u001b[0m \u001b[38;5;28;01mexcept\u001b[39;00m (\u001b[38;5;167;01mImportError\u001b[39;00m, \u001b[38;5;167;01mAttributeError\u001b[39;00m):\n\u001b[0;32m    151\u001b[0m     \u001b[38;5;28;01mif\u001b[39;00m \u001b[38;5;129;01mnot\u001b[39;00m silent:\n",
      "\u001b[1;31mAttributeError\u001b[0m: module 'jinja2.ext' has no attribute 'with_'"
     ]
    }
   ],
   "source": [
    "import pixiedust"
   ]
  },
  {
   "cell_type": "code",
   "execution_count": 3,
   "id": "f6e7ba55",
   "metadata": {
    "ExecuteTime": {
     "end_time": "2022-04-11T13:55:49.071271Z",
     "start_time": "2022-04-11T13:55:49.047285Z"
    }
   },
   "outputs": [
    {
     "ename": "NameError",
     "evalue": "name 'pixiedust' is not defined",
     "output_type": "error",
     "traceback": [
      "\u001b[1;31m---------------------------------------------------------------------------\u001b[0m",
      "\u001b[1;31mNameError\u001b[0m                                 Traceback (most recent call last)",
      "Input \u001b[1;32mIn [3]\u001b[0m, in \u001b[0;36m<cell line: 1>\u001b[1;34m()\u001b[0m\n\u001b[1;32m----> 1\u001b[0m df \u001b[38;5;241m=\u001b[39m \u001b[43mpixiedust\u001b[49m\u001b[38;5;241m.\u001b[39msampleData(\u001b[38;5;241m7\u001b[39m)\n\u001b[0;32m      2\u001b[0m display(df)\n",
      "\u001b[1;31mNameError\u001b[0m: name 'pixiedust' is not defined"
     ]
    }
   ],
   "source": [
    "df = pixiedust.sampleData(7)\n",
    "display(df)"
   ]
  },
  {
   "cell_type": "code",
   "execution_count": 2,
   "id": "8ecf56fe",
   "metadata": {
    "ExecuteTime": {
     "end_time": "2022-04-11T13:52:10.205638Z",
     "start_time": "2022-04-11T13:52:10.200643Z"
    }
   },
   "outputs": [
    {
     "name": "stderr",
     "output_type": "stream",
     "text": [
      "UsageError: Cell magic `%%pixie_debugger` not found.\n"
     ]
    }
   ],
   "source": [
    "%%pixie_debugger\n",
    "import random\n",
    "def find_max (values):\n",
    "    max = 0\n",
    "    for val in values:\n",
    "        if val > max:\n",
    "            max = val\n",
    "    return max\n",
    "find_max(random.sample(range(100), 10))"
   ]
  },
  {
   "cell_type": "code",
   "execution_count": 2,
   "id": "0b2293d1",
   "metadata": {
    "ExecuteTime": {
     "end_time": "2022-04-11T13:44:49.501969Z",
     "start_time": "2022-04-11T13:44:49.491974Z"
    },
    "slideshow": {
     "slide_type": "subslide"
    }
   },
   "outputs": [],
   "source": [
    "import numpy as np\n",
    "import pandas as pd\n",
    "\n",
    "import matplotlib.pyplot as plt\n",
    "import seaborn as sns\n",
    "import random"
   ]
  },
  {
   "cell_type": "code",
   "execution_count": 3,
   "id": "3e939754",
   "metadata": {
    "ExecuteTime": {
     "end_time": "2022-04-11T13:44:51.792341Z",
     "start_time": "2022-04-11T13:44:51.780346Z"
    },
    "slideshow": {
     "slide_type": "slide"
    }
   },
   "outputs": [],
   "source": [
    "import warnings\n",
    "warnings.filterwarnings(\"ignore\")\n",
    "\n",
    "# Configs\n",
    "pd.options.display.float_format = '{:,.4f}'.format\n",
    "sns.set(style=\"whitegrid\")\n",
    "plt.style.use('seaborn')\n",
    "seed = 42\n",
    "np.random.seed(seed)\n",
    "random.seed(seed)\n",
    "# https://mljar.com/blog/feature-importance-in-random-forest/\n",
    "# !pip install openpyxl"
   ]
  },
  {
   "cell_type": "code",
   "execution_count": 4,
   "id": "66693cfc",
   "metadata": {
    "ExecuteTime": {
     "end_time": "2022-04-11T13:44:52.182355Z",
     "start_time": "2022-04-11T13:44:52.174355Z"
    },
    "slideshow": {
     "slide_type": "-"
    }
   },
   "outputs": [],
   "source": [
    "filepath = 'Base de Dados - Questionário.xlsx'"
   ]
  },
  {
   "cell_type": "code",
   "execution_count": 5,
   "id": "2374e1b0",
   "metadata": {
    "ExecuteTime": {
     "end_time": "2022-04-11T13:45:08.253709Z",
     "start_time": "2022-04-11T13:44:52.647010Z"
    },
    "slideshow": {
     "slide_type": "fragment"
    }
   },
   "outputs": [],
   "source": [
    "# carrega normal\n",
    "df_produto = pd.read_excel(filepath, sheet_name='Sheet2')\n",
    "df_consumidor = pd.read_excel(filepath, sheet_name='Sheet3')\n",
    "df_loja = pd.read_excel(filepath, sheet_name='Sheet4')"
   ]
  },
  {
   "cell_type": "code",
   "execution_count": 6,
   "id": "17b4ed95",
   "metadata": {
    "ExecuteTime": {
     "end_time": "2022-04-11T13:45:30.091071Z",
     "start_time": "2022-04-11T13:45:20.591964Z"
    },
    "scrolled": false,
    "slideshow": {
     "slide_type": "skip"
    }
   },
   "outputs": [
    {
     "data": {
      "text/html": [
       "<div>\n",
       "<style scoped>\n",
       "    .dataframe tbody tr th:only-of-type {\n",
       "        vertical-align: middle;\n",
       "    }\n",
       "\n",
       "    .dataframe tbody tr th {\n",
       "        vertical-align: top;\n",
       "    }\n",
       "\n",
       "    .dataframe thead th {\n",
       "        text-align: right;\n",
       "    }\n",
       "</style>\n",
       "<table border=\"1\" class=\"dataframe\">\n",
       "  <thead>\n",
       "    <tr style=\"text-align: right;\">\n",
       "      <th></th>\n",
       "      <th>ID</th>\n",
       "      <th>ProductID</th>\n",
       "      <th>ClientID</th>\n",
       "      <th>Discount</th>\n",
       "      <th>UnitPrice</th>\n",
       "      <th>Quantity</th>\n",
       "      <th>StoreID</th>\n",
       "      <th>Date</th>\n",
       "    </tr>\n",
       "  </thead>\n",
       "  <tbody>\n",
       "    <tr>\n",
       "      <th>0</th>\n",
       "      <td>80260d682079b6090c8285b398c50d97</td>\n",
       "      <td>002552c0663708129c0019cc97552d7d3</td>\n",
       "      <td>14,001.0000</td>\n",
       "      <td>0.0800</td>\n",
       "      <td>249.2000</td>\n",
       "      <td>1.0000</td>\n",
       "      <td>4.0000</td>\n",
       "      <td>2018-12-10</td>\n",
       "    </tr>\n",
       "    <tr>\n",
       "      <th>1</th>\n",
       "      <td>3275736da1234f55d52bdf09d86b93bc</td>\n",
       "      <td>001b237c0e9bb435f2e54071129237e93</td>\n",
       "      <td>14,001.0000</td>\n",
       "      <td>0.1000</td>\n",
       "      <td>162.4000</td>\n",
       "      <td>1.0000</td>\n",
       "      <td>4.0000</td>\n",
       "      <td>2019-04-25</td>\n",
       "    </tr>\n",
       "    <tr>\n",
       "      <th>2</th>\n",
       "      <td>f3513eec8f1434b5b7e04ddf3598df40</td>\n",
       "      <td>00066f42aeeb9f3007548bb9d3f33c381</td>\n",
       "      <td>14,001.0000</td>\n",
       "      <td>0.1000</td>\n",
       "      <td>194.6000</td>\n",
       "      <td>1.0000</td>\n",
       "      <td>4.0000</td>\n",
       "      <td>2019-07-17</td>\n",
       "    </tr>\n",
       "    <tr>\n",
       "      <th>3</th>\n",
       "      <td>7180475b60fe6bbbde424d39704a1177</td>\n",
       "      <td>001b72dfd63e9833e8c02742adf472e33</td>\n",
       "      <td>14,002.0000</td>\n",
       "      <td>0.1000</td>\n",
       "      <td>201.6000</td>\n",
       "      <td>2.0000</td>\n",
       "      <td>1.0000</td>\n",
       "      <td>2018-04-10</td>\n",
       "    </tr>\n",
       "    <tr>\n",
       "      <th>4</th>\n",
       "      <td>76600853a200fe87e141adae6b35674c</td>\n",
       "      <td>00210e41887c2a8ef9f791ebc780cc363</td>\n",
       "      <td>14,002.0000</td>\n",
       "      <td>0.1000</td>\n",
       "      <td>406.0000</td>\n",
       "      <td>1.0000</td>\n",
       "      <td>1.0000</td>\n",
       "      <td>2019-01-21</td>\n",
       "    </tr>\n",
       "  </tbody>\n",
       "</table>\n",
       "</div>"
      ],
      "text/plain": [
       "                                 ID                          ProductID  \\\n",
       "0  80260d682079b6090c8285b398c50d97  002552c0663708129c0019cc97552d7d3   \n",
       "1  3275736da1234f55d52bdf09d86b93bc  001b237c0e9bb435f2e54071129237e93   \n",
       "2  f3513eec8f1434b5b7e04ddf3598df40  00066f42aeeb9f3007548bb9d3f33c381   \n",
       "3  7180475b60fe6bbbde424d39704a1177  001b72dfd63e9833e8c02742adf472e33   \n",
       "4  76600853a200fe87e141adae6b35674c  00210e41887c2a8ef9f791ebc780cc363   \n",
       "\n",
       "     ClientID  Discount  UnitPrice  Quantity  StoreID       Date  \n",
       "0 14,001.0000    0.0800   249.2000    1.0000   4.0000 2018-12-10  \n",
       "1 14,001.0000    0.1000   162.4000    1.0000   4.0000 2019-04-25  \n",
       "2 14,001.0000    0.1000   194.6000    1.0000   4.0000 2019-07-17  \n",
       "3 14,002.0000    0.1000   201.6000    2.0000   1.0000 2018-04-10  \n",
       "4 14,002.0000    0.1000   406.0000    1.0000   1.0000 2019-01-21  "
      ]
     },
     "execution_count": 6,
     "metadata": {},
     "output_type": "execute_result"
    }
   ],
   "source": [
    "df_venda = pd.read_excel(filepath, sheet_name='Sheet1', header=4)\n",
    "df_venda = df_venda.drop(axis='columns', columns=['Unnamed: 1','Unnamed: 0'])\n",
    "df_venda.head()"
   ]
  },
  {
   "cell_type": "code",
   "execution_count": 7,
   "id": "ad2e5e90",
   "metadata": {
    "ExecuteTime": {
     "end_time": "2022-04-11T13:45:30.868587Z",
     "start_time": "2022-04-11T13:45:30.095064Z"
    }
   },
   "outputs": [
    {
     "data": {
      "text/plain": [
       "32753"
      ]
     },
     "execution_count": 7,
     "metadata": {},
     "output_type": "execute_result"
    }
   ],
   "source": [
    "df1 = pd.merge(df_venda, df_produto, left_on='ProductID', right_on='ID', how='outer')\n",
    "df2 = pd.merge(df1, df_consumidor, left_on='ClientID', right_on='ID', how='outer') \n",
    "df  = pd.merge(df2, df_loja, left_on='StoreID', right_on='ID', how='outer') \n",
    "len(df)"
   ]
  },
  {
   "cell_type": "code",
   "execution_count": 8,
   "id": "a20e091a",
   "metadata": {
    "ExecuteTime": {
     "end_time": "2022-04-11T13:45:30.932547Z",
     "start_time": "2022-04-11T13:45:30.874584Z"
    }
   },
   "outputs": [
    {
     "data": {
      "text/html": [
       "<div>\n",
       "<style scoped>\n",
       "    .dataframe tbody tr th:only-of-type {\n",
       "        vertical-align: middle;\n",
       "    }\n",
       "\n",
       "    .dataframe tbody tr th {\n",
       "        vertical-align: top;\n",
       "    }\n",
       "\n",
       "    .dataframe thead th {\n",
       "        text-align: right;\n",
       "    }\n",
       "</style>\n",
       "<table border=\"1\" class=\"dataframe\">\n",
       "  <thead>\n",
       "    <tr style=\"text-align: right;\">\n",
       "      <th></th>\n",
       "      <th>VendaID</th>\n",
       "      <th>ProductID</th>\n",
       "      <th>ClientID</th>\n",
       "      <th>Discount</th>\n",
       "      <th>UnitPrice</th>\n",
       "      <th>Quantity</th>\n",
       "      <th>StoreID</th>\n",
       "      <th>Date</th>\n",
       "      <th>Name_Product</th>\n",
       "      <th>Size</th>\n",
       "      <th>VendaID</th>\n",
       "      <th>City</th>\n",
       "      <th>State_Client</th>\n",
       "      <th>DateOfBirth</th>\n",
       "      <th>Sex</th>\n",
       "      <th>Name_State</th>\n",
       "      <th>State_Store</th>\n",
       "    </tr>\n",
       "  </thead>\n",
       "  <tbody>\n",
       "    <tr>\n",
       "      <th>0</th>\n",
       "      <td>80260d682079b6090c8285b398c50d97</td>\n",
       "      <td>002552c0663708129c0019cc97552d7d3</td>\n",
       "      <td>14,001.0000</td>\n",
       "      <td>0.0800</td>\n",
       "      <td>249.2000</td>\n",
       "      <td>1.0000</td>\n",
       "      <td>4.0000</td>\n",
       "      <td>2018-12-10</td>\n",
       "      <td>Tempestade</td>\n",
       "      <td>G</td>\n",
       "      <td>14,001.0000</td>\n",
       "      <td>Curitiba</td>\n",
       "      <td>PR</td>\n",
       "      <td>1985-06-28</td>\n",
       "      <td>Homem</td>\n",
       "      <td>Curitiba</td>\n",
       "      <td>PR</td>\n",
       "    </tr>\n",
       "    <tr>\n",
       "      <th>1</th>\n",
       "      <td>3275736da1234f55d52bdf09d86b93bc</td>\n",
       "      <td>001b237c0e9bb435f2e54071129237e93</td>\n",
       "      <td>14,001.0000</td>\n",
       "      <td>0.1000</td>\n",
       "      <td>162.4000</td>\n",
       "      <td>1.0000</td>\n",
       "      <td>4.0000</td>\n",
       "      <td>2019-04-25</td>\n",
       "      <td>Thanos</td>\n",
       "      <td>G</td>\n",
       "      <td>14,001.0000</td>\n",
       "      <td>Curitiba</td>\n",
       "      <td>PR</td>\n",
       "      <td>1985-06-28</td>\n",
       "      <td>Homem</td>\n",
       "      <td>Curitiba</td>\n",
       "      <td>PR</td>\n",
       "    </tr>\n",
       "    <tr>\n",
       "      <th>2</th>\n",
       "      <td>f3513eec8f1434b5b7e04ddf3598df40</td>\n",
       "      <td>00066f42aeeb9f3007548bb9d3f33c381</td>\n",
       "      <td>14,001.0000</td>\n",
       "      <td>0.1000</td>\n",
       "      <td>194.6000</td>\n",
       "      <td>1.0000</td>\n",
       "      <td>4.0000</td>\n",
       "      <td>2019-07-17</td>\n",
       "      <td>Capitão América</td>\n",
       "      <td>P</td>\n",
       "      <td>14,001.0000</td>\n",
       "      <td>Curitiba</td>\n",
       "      <td>PR</td>\n",
       "      <td>1985-06-28</td>\n",
       "      <td>Homem</td>\n",
       "      <td>Curitiba</td>\n",
       "      <td>PR</td>\n",
       "    </tr>\n",
       "    <tr>\n",
       "      <th>3</th>\n",
       "      <td>c330b70c5e60bf56e90ebe09e045f79e</td>\n",
       "      <td>002552c0663708129c0019cc97552d7d3</td>\n",
       "      <td>14,116.0000</td>\n",
       "      <td>0.0800</td>\n",
       "      <td>249.2000</td>\n",
       "      <td>1.0000</td>\n",
       "      <td>4.0000</td>\n",
       "      <td>2018-12-03</td>\n",
       "      <td>Tempestade</td>\n",
       "      <td>G</td>\n",
       "      <td>14,116.0000</td>\n",
       "      <td>Curitiba</td>\n",
       "      <td>PR</td>\n",
       "      <td>1987-10-21</td>\n",
       "      <td>Homem</td>\n",
       "      <td>Curitiba</td>\n",
       "      <td>PR</td>\n",
       "    </tr>\n",
       "    <tr>\n",
       "      <th>4</th>\n",
       "      <td>961b75f90f3f09b0b5b5526073ec83e7</td>\n",
       "      <td>002959d7a0b0990fe2d69988affcbc803</td>\n",
       "      <td>14,116.0000</td>\n",
       "      <td>0.1000</td>\n",
       "      <td>261.8000</td>\n",
       "      <td>2.0000</td>\n",
       "      <td>4.0000</td>\n",
       "      <td>2019-05-07</td>\n",
       "      <td>Ciclope</td>\n",
       "      <td>G</td>\n",
       "      <td>14,116.0000</td>\n",
       "      <td>Curitiba</td>\n",
       "      <td>PR</td>\n",
       "      <td>1987-10-21</td>\n",
       "      <td>Homem</td>\n",
       "      <td>Curitiba</td>\n",
       "      <td>PR</td>\n",
       "    </tr>\n",
       "  </tbody>\n",
       "</table>\n",
       "</div>"
      ],
      "text/plain": [
       "                            VendaID                          ProductID  \\\n",
       "0  80260d682079b6090c8285b398c50d97  002552c0663708129c0019cc97552d7d3   \n",
       "1  3275736da1234f55d52bdf09d86b93bc  001b237c0e9bb435f2e54071129237e93   \n",
       "2  f3513eec8f1434b5b7e04ddf3598df40  00066f42aeeb9f3007548bb9d3f33c381   \n",
       "3  c330b70c5e60bf56e90ebe09e045f79e  002552c0663708129c0019cc97552d7d3   \n",
       "4  961b75f90f3f09b0b5b5526073ec83e7  002959d7a0b0990fe2d69988affcbc803   \n",
       "\n",
       "     ClientID  Discount  UnitPrice  Quantity  StoreID       Date  \\\n",
       "0 14,001.0000    0.0800   249.2000    1.0000   4.0000 2018-12-10   \n",
       "1 14,001.0000    0.1000   162.4000    1.0000   4.0000 2019-04-25   \n",
       "2 14,001.0000    0.1000   194.6000    1.0000   4.0000 2019-07-17   \n",
       "3 14,116.0000    0.0800   249.2000    1.0000   4.0000 2018-12-03   \n",
       "4 14,116.0000    0.1000   261.8000    2.0000   4.0000 2019-05-07   \n",
       "\n",
       "      Name_Product Size     VendaID      City State_Client DateOfBirth    Sex  \\\n",
       "0       Tempestade    G 14,001.0000  Curitiba           PR  1985-06-28  Homem   \n",
       "1           Thanos    G 14,001.0000  Curitiba           PR  1985-06-28  Homem   \n",
       "2  Capitão América    P 14,001.0000  Curitiba           PR  1985-06-28  Homem   \n",
       "3       Tempestade    G 14,116.0000  Curitiba           PR  1987-10-21  Homem   \n",
       "4          Ciclope    G 14,116.0000  Curitiba           PR  1987-10-21  Homem   \n",
       "\n",
       "  Name_State State_Store  \n",
       "0   Curitiba          PR  \n",
       "1   Curitiba          PR  \n",
       "2   Curitiba          PR  \n",
       "3   Curitiba          PR  \n",
       "4   Curitiba          PR  "
      ]
     },
     "execution_count": 8,
     "metadata": {},
     "output_type": "execute_result"
    }
   ],
   "source": [
    "df = df.rename(columns={\"ID_x\": \"VendaID\", \"State_x\": \"State_Client\", \"State_y\": \"State_Store\", \"Name_x\": \"Name_Product\", \"Name_y\": \"Name_State\"})\n",
    "df = df.drop(axis='columns', columns=['ID_y'])\n",
    "df.head()"
   ]
  },
  {
   "cell_type": "code",
   "execution_count": 9,
   "id": "084728d9",
   "metadata": {
    "ExecuteTime": {
     "end_time": "2022-04-11T13:45:30.963527Z",
     "start_time": "2022-04-11T13:45:30.936545Z"
    },
    "scrolled": true
   },
   "outputs": [
    {
     "data": {
      "text/html": [
       "<div>\n",
       "<style scoped>\n",
       "    .dataframe tbody tr th:only-of-type {\n",
       "        vertical-align: middle;\n",
       "    }\n",
       "\n",
       "    .dataframe tbody tr th {\n",
       "        vertical-align: top;\n",
       "    }\n",
       "\n",
       "    .dataframe thead th {\n",
       "        text-align: right;\n",
       "    }\n",
       "</style>\n",
       "<table border=\"1\" class=\"dataframe\">\n",
       "  <thead>\n",
       "    <tr style=\"text-align: right;\">\n",
       "      <th></th>\n",
       "      <th>VendaID</th>\n",
       "      <th>ProductID</th>\n",
       "      <th>ClientID</th>\n",
       "      <th>Discount</th>\n",
       "      <th>UnitPrice</th>\n",
       "      <th>Quantity</th>\n",
       "      <th>StoreID</th>\n",
       "      <th>Date</th>\n",
       "      <th>Name_Product</th>\n",
       "      <th>Size</th>\n",
       "      <th>VendaID</th>\n",
       "      <th>City</th>\n",
       "      <th>State_Client</th>\n",
       "      <th>DateOfBirth</th>\n",
       "      <th>Sex</th>\n",
       "      <th>Name_State</th>\n",
       "      <th>State_Store</th>\n",
       "    </tr>\n",
       "  </thead>\n",
       "  <tbody>\n",
       "    <tr>\n",
       "      <th>0</th>\n",
       "      <td>80260d682079b6090c8285b398c50d97</td>\n",
       "      <td>002552c0663708129c0019cc97552d7d3</td>\n",
       "      <td>14,001.0000</td>\n",
       "      <td>0.0800</td>\n",
       "      <td>249.2000</td>\n",
       "      <td>1.0000</td>\n",
       "      <td>4.0000</td>\n",
       "      <td>2018-12-10</td>\n",
       "      <td>Tempestade</td>\n",
       "      <td>G</td>\n",
       "      <td>14,001.0000</td>\n",
       "      <td>Curitiba</td>\n",
       "      <td>PR</td>\n",
       "      <td>1985-06-28</td>\n",
       "      <td>Homem</td>\n",
       "      <td>Curitiba</td>\n",
       "      <td>PR</td>\n",
       "    </tr>\n",
       "    <tr>\n",
       "      <th>1</th>\n",
       "      <td>3275736da1234f55d52bdf09d86b93bc</td>\n",
       "      <td>001b237c0e9bb435f2e54071129237e93</td>\n",
       "      <td>14,001.0000</td>\n",
       "      <td>0.1000</td>\n",
       "      <td>162.4000</td>\n",
       "      <td>1.0000</td>\n",
       "      <td>4.0000</td>\n",
       "      <td>2019-04-25</td>\n",
       "      <td>Thanos</td>\n",
       "      <td>G</td>\n",
       "      <td>14,001.0000</td>\n",
       "      <td>Curitiba</td>\n",
       "      <td>PR</td>\n",
       "      <td>1985-06-28</td>\n",
       "      <td>Homem</td>\n",
       "      <td>Curitiba</td>\n",
       "      <td>PR</td>\n",
       "    </tr>\n",
       "    <tr>\n",
       "      <th>2</th>\n",
       "      <td>f3513eec8f1434b5b7e04ddf3598df40</td>\n",
       "      <td>00066f42aeeb9f3007548bb9d3f33c381</td>\n",
       "      <td>14,001.0000</td>\n",
       "      <td>0.1000</td>\n",
       "      <td>194.6000</td>\n",
       "      <td>1.0000</td>\n",
       "      <td>4.0000</td>\n",
       "      <td>2019-07-17</td>\n",
       "      <td>Capitão América</td>\n",
       "      <td>P</td>\n",
       "      <td>14,001.0000</td>\n",
       "      <td>Curitiba</td>\n",
       "      <td>PR</td>\n",
       "      <td>1985-06-28</td>\n",
       "      <td>Homem</td>\n",
       "      <td>Curitiba</td>\n",
       "      <td>PR</td>\n",
       "    </tr>\n",
       "    <tr>\n",
       "      <th>3</th>\n",
       "      <td>c330b70c5e60bf56e90ebe09e045f79e</td>\n",
       "      <td>002552c0663708129c0019cc97552d7d3</td>\n",
       "      <td>14,116.0000</td>\n",
       "      <td>0.0800</td>\n",
       "      <td>249.2000</td>\n",
       "      <td>1.0000</td>\n",
       "      <td>4.0000</td>\n",
       "      <td>2018-12-03</td>\n",
       "      <td>Tempestade</td>\n",
       "      <td>G</td>\n",
       "      <td>14,116.0000</td>\n",
       "      <td>Curitiba</td>\n",
       "      <td>PR</td>\n",
       "      <td>1987-10-21</td>\n",
       "      <td>Homem</td>\n",
       "      <td>Curitiba</td>\n",
       "      <td>PR</td>\n",
       "    </tr>\n",
       "    <tr>\n",
       "      <th>4</th>\n",
       "      <td>961b75f90f3f09b0b5b5526073ec83e7</td>\n",
       "      <td>002959d7a0b0990fe2d69988affcbc803</td>\n",
       "      <td>14,116.0000</td>\n",
       "      <td>0.1000</td>\n",
       "      <td>261.8000</td>\n",
       "      <td>2.0000</td>\n",
       "      <td>4.0000</td>\n",
       "      <td>2019-05-07</td>\n",
       "      <td>Ciclope</td>\n",
       "      <td>G</td>\n",
       "      <td>14,116.0000</td>\n",
       "      <td>Curitiba</td>\n",
       "      <td>PR</td>\n",
       "      <td>1987-10-21</td>\n",
       "      <td>Homem</td>\n",
       "      <td>Curitiba</td>\n",
       "      <td>PR</td>\n",
       "    </tr>\n",
       "  </tbody>\n",
       "</table>\n",
       "</div>"
      ],
      "text/plain": [
       "                            VendaID                          ProductID  \\\n",
       "0  80260d682079b6090c8285b398c50d97  002552c0663708129c0019cc97552d7d3   \n",
       "1  3275736da1234f55d52bdf09d86b93bc  001b237c0e9bb435f2e54071129237e93   \n",
       "2  f3513eec8f1434b5b7e04ddf3598df40  00066f42aeeb9f3007548bb9d3f33c381   \n",
       "3  c330b70c5e60bf56e90ebe09e045f79e  002552c0663708129c0019cc97552d7d3   \n",
       "4  961b75f90f3f09b0b5b5526073ec83e7  002959d7a0b0990fe2d69988affcbc803   \n",
       "\n",
       "     ClientID  Discount  UnitPrice  Quantity  StoreID       Date  \\\n",
       "0 14,001.0000    0.0800   249.2000    1.0000   4.0000 2018-12-10   \n",
       "1 14,001.0000    0.1000   162.4000    1.0000   4.0000 2019-04-25   \n",
       "2 14,001.0000    0.1000   194.6000    1.0000   4.0000 2019-07-17   \n",
       "3 14,116.0000    0.0800   249.2000    1.0000   4.0000 2018-12-03   \n",
       "4 14,116.0000    0.1000   261.8000    2.0000   4.0000 2019-05-07   \n",
       "\n",
       "      Name_Product Size     VendaID      City State_Client DateOfBirth    Sex  \\\n",
       "0       Tempestade    G 14,001.0000  Curitiba           PR  1985-06-28  Homem   \n",
       "1           Thanos    G 14,001.0000  Curitiba           PR  1985-06-28  Homem   \n",
       "2  Capitão América    P 14,001.0000  Curitiba           PR  1985-06-28  Homem   \n",
       "3       Tempestade    G 14,116.0000  Curitiba           PR  1987-10-21  Homem   \n",
       "4          Ciclope    G 14,116.0000  Curitiba           PR  1987-10-21  Homem   \n",
       "\n",
       "  Name_State State_Store  \n",
       "0   Curitiba          PR  \n",
       "1   Curitiba          PR  \n",
       "2   Curitiba          PR  \n",
       "3   Curitiba          PR  \n",
       "4   Curitiba          PR  "
      ]
     },
     "execution_count": 9,
     "metadata": {},
     "output_type": "execute_result"
    }
   ],
   "source": [
    "df.head()"
   ]
  },
  {
   "cell_type": "markdown",
   "id": "0bd062bc",
   "metadata": {},
   "source": [
    "5. Quantos produtos únicos foram vendidos?\n",
    "\n",
    "73"
   ]
  },
  {
   "cell_type": "code",
   "execution_count": 11,
   "id": "4aa9ab09",
   "metadata": {
    "ExecuteTime": {
     "end_time": "2022-04-11T13:45:56.641810Z",
     "start_time": "2022-04-11T13:45:54.860477Z"
    }
   },
   "outputs": [
    {
     "name": "stdout",
     "output_type": "stream",
     "text": [
      "NOTE: Enter 'c' at the ipdb>  prompt to continue execution.\n",
      "> \u001b[1;32m<string>\u001b[0m(2)\u001b[0;36m<module>\u001b[1;34m()\u001b[0m\n",
      "\n",
      "ipdb> c\n"
     ]
    }
   ],
   "source": [
    "%%debug \n",
    "len(df['ProductID'].value_counts())"
   ]
  },
  {
   "cell_type": "markdown",
   "id": "071a07d2",
   "metadata": {},
   "source": [
    "6. Qual o produto mais vendido e quantos desse produto foram vendidos?\n",
    "\n",
    "966, Bazinga, G"
   ]
  },
  {
   "cell_type": "code",
   "execution_count": 17,
   "id": "73abd23d",
   "metadata": {
    "ExecuteTime": {
     "end_time": "2022-03-21T14:41:14.861960Z",
     "start_time": "2022-03-21T14:41:14.846970Z"
    },
    "scrolled": true
   },
   "outputs": [
    {
     "data": {
      "text/plain": [
       "002ec297b1b00fb9dde7ee6ac24b67713    966\n",
       "002d4ea7c04739c130bb74d7e7cd16943    963\n",
       "001c5d71ac6ad696d22315953758fa043    944\n",
       "0011c512eb256aa0dbbb544d8dffcf6e3    940\n",
       "0030026a6ddb3b2d1d4bc225b4b4c4da3    939\n",
       "                                    ... \n",
       "00088930e925c41fd95ebfe695fd26552    205\n",
       "00210e41887c2a8ef9f791ebc780cc362    204\n",
       "002ec297b1b00fb9dde7ee6ac24b67711    202\n",
       "002552c0663708129c0019cc97552d7d2    200\n",
       "001b237c0e9bb435f2e54071129237e92    197\n",
       "Name: ProductID, Length: 73, dtype: int64"
      ]
     },
     "execution_count": 17,
     "metadata": {},
     "output_type": "execute_result"
    }
   ],
   "source": [
    "df['ProductID'].value_counts()"
   ]
  },
  {
   "cell_type": "code",
   "execution_count": 19,
   "id": "5ffb6304",
   "metadata": {
    "ExecuteTime": {
     "end_time": "2022-03-21T14:42:34.229327Z",
     "start_time": "2022-03-21T14:42:34.212331Z"
    }
   },
   "outputs": [
    {
     "data": {
      "text/html": [
       "<div>\n",
       "<style scoped>\n",
       "    .dataframe tbody tr th:only-of-type {\n",
       "        vertical-align: middle;\n",
       "    }\n",
       "\n",
       "    .dataframe tbody tr th {\n",
       "        vertical-align: top;\n",
       "    }\n",
       "\n",
       "    .dataframe thead th {\n",
       "        text-align: right;\n",
       "    }\n",
       "</style>\n",
       "<table border=\"1\" class=\"dataframe\">\n",
       "  <thead>\n",
       "    <tr style=\"text-align: right;\">\n",
       "      <th></th>\n",
       "      <th>Name_Product</th>\n",
       "      <th>Size</th>\n",
       "    </tr>\n",
       "  </thead>\n",
       "  <tbody>\n",
       "    <tr>\n",
       "      <th>5</th>\n",
       "      <td>Bazinga</td>\n",
       "      <td>G</td>\n",
       "    </tr>\n",
       "  </tbody>\n",
       "</table>\n",
       "</div>"
      ],
      "text/plain": [
       "  Name_Product Size\n",
       "5      Bazinga    G"
      ]
     },
     "execution_count": 19,
     "metadata": {},
     "output_type": "execute_result"
    }
   ],
   "source": [
    "df[ df['ProductID'] == '002ec297b1b00fb9dde7ee6ac24b67713'].head(1)[['Name_Product', 'Size']]"
   ]
  },
  {
   "cell_type": "markdown",
   "id": "0a514e1b",
   "metadata": {},
   "source": [
    "7. Considerando o ano de 2019, qual gráfico abaixo mais se parece à quantidade mensal do vendida do produto \"Iron Man, G\" ?\n",
    "\n",
    "D\n",
    "\n"
   ]
  },
  {
   "cell_type": "code",
   "execution_count": 20,
   "id": "496edd10",
   "metadata": {
    "ExecuteTime": {
     "end_time": "2022-03-21T14:43:41.571445Z",
     "start_time": "2022-03-21T14:43:41.566452Z"
    }
   },
   "outputs": [],
   "source": [
    "cod_id = '002d4ea7c04739c130bb74d7e7cd16943'"
   ]
  },
  {
   "cell_type": "code",
   "execution_count": 21,
   "id": "e9486169",
   "metadata": {
    "ExecuteTime": {
     "end_time": "2022-03-21T14:44:06.318497Z",
     "start_time": "2022-03-21T14:44:06.293512Z"
    }
   },
   "outputs": [],
   "source": [
    "df_ironman = df[ df['ProductID'] == cod_id]"
   ]
  },
  {
   "cell_type": "code",
   "execution_count": 22,
   "id": "26659b50",
   "metadata": {
    "ExecuteTime": {
     "end_time": "2022-03-21T14:44:10.153426Z",
     "start_time": "2022-03-21T14:44:10.117450Z"
    }
   },
   "outputs": [
    {
     "data": {
      "text/html": [
       "<div>\n",
       "<style scoped>\n",
       "    .dataframe tbody tr th:only-of-type {\n",
       "        vertical-align: middle;\n",
       "    }\n",
       "\n",
       "    .dataframe tbody tr th {\n",
       "        vertical-align: top;\n",
       "    }\n",
       "\n",
       "    .dataframe thead th {\n",
       "        text-align: right;\n",
       "    }\n",
       "</style>\n",
       "<table border=\"1\" class=\"dataframe\">\n",
       "  <thead>\n",
       "    <tr style=\"text-align: right;\">\n",
       "      <th></th>\n",
       "      <th>VendaID</th>\n",
       "      <th>ProductID</th>\n",
       "      <th>ClientID</th>\n",
       "      <th>Discount</th>\n",
       "      <th>UnitPrice</th>\n",
       "      <th>Quantity</th>\n",
       "      <th>StoreID</th>\n",
       "      <th>Date</th>\n",
       "      <th>Name_Product</th>\n",
       "      <th>Size</th>\n",
       "      <th>VendaID</th>\n",
       "      <th>City</th>\n",
       "      <th>State_Client</th>\n",
       "      <th>DateOfBirth</th>\n",
       "      <th>Sex</th>\n",
       "      <th>Name_State</th>\n",
       "      <th>State_Store</th>\n",
       "    </tr>\n",
       "  </thead>\n",
       "  <tbody>\n",
       "    <tr>\n",
       "      <th>51</th>\n",
       "      <td>6f118f6a730ce35b230974f295f743f9</td>\n",
       "      <td>002d4ea7c04739c130bb74d7e7cd16943</td>\n",
       "      <td>15,478.0000</td>\n",
       "      <td>0.0800</td>\n",
       "      <td>210.0000</td>\n",
       "      <td>1.0000</td>\n",
       "      <td>4.0000</td>\n",
       "      <td>2019-08-22</td>\n",
       "      <td>Iron Man</td>\n",
       "      <td>G</td>\n",
       "      <td>15,478.0000</td>\n",
       "      <td>Curitiba</td>\n",
       "      <td>PR</td>\n",
       "      <td>1962-12-30</td>\n",
       "      <td>Homem</td>\n",
       "      <td>Curitiba</td>\n",
       "      <td>PR</td>\n",
       "    </tr>\n",
       "    <tr>\n",
       "      <th>89</th>\n",
       "      <td>d80faf302bbccea1f0b613d440de4d33</td>\n",
       "      <td>002d4ea7c04739c130bb74d7e7cd16943</td>\n",
       "      <td>16,576.0000</td>\n",
       "      <td>0.1000</td>\n",
       "      <td>210.0000</td>\n",
       "      <td>1.0000</td>\n",
       "      <td>4.0000</td>\n",
       "      <td>2018-04-21</td>\n",
       "      <td>Iron Man</td>\n",
       "      <td>G</td>\n",
       "      <td>16,576.0000</td>\n",
       "      <td>Curitiba</td>\n",
       "      <td>PR</td>\n",
       "      <td>1974-07-05</td>\n",
       "      <td>Homem</td>\n",
       "      <td>Curitiba</td>\n",
       "      <td>PR</td>\n",
       "    </tr>\n",
       "    <tr>\n",
       "      <th>102</th>\n",
       "      <td>c239944e346dc1fde937d68eaaf858ac</td>\n",
       "      <td>002d4ea7c04739c130bb74d7e7cd16943</td>\n",
       "      <td>17,273.0000</td>\n",
       "      <td>0.1000</td>\n",
       "      <td>210.0000</td>\n",
       "      <td>1.0000</td>\n",
       "      <td>4.0000</td>\n",
       "      <td>2018-05-21</td>\n",
       "      <td>Iron Man</td>\n",
       "      <td>G</td>\n",
       "      <td>17,273.0000</td>\n",
       "      <td>Curitiba</td>\n",
       "      <td>PR</td>\n",
       "      <td>1987-06-26</td>\n",
       "      <td>Homem</td>\n",
       "      <td>Curitiba</td>\n",
       "      <td>PR</td>\n",
       "    </tr>\n",
       "    <tr>\n",
       "      <th>122</th>\n",
       "      <td>e2384e27d52c798743c71c9f2c57763a</td>\n",
       "      <td>002d4ea7c04739c130bb74d7e7cd16943</td>\n",
       "      <td>17,640.0000</td>\n",
       "      <td>0.0800</td>\n",
       "      <td>210.0000</td>\n",
       "      <td>2.0000</td>\n",
       "      <td>4.0000</td>\n",
       "      <td>2018-08-06</td>\n",
       "      <td>Iron Man</td>\n",
       "      <td>G</td>\n",
       "      <td>17,640.0000</td>\n",
       "      <td>Curitiba</td>\n",
       "      <td>PR</td>\n",
       "      <td>1999-09-17</td>\n",
       "      <td>Homem</td>\n",
       "      <td>Curitiba</td>\n",
       "      <td>PR</td>\n",
       "    </tr>\n",
       "    <tr>\n",
       "      <th>123</th>\n",
       "      <td>cc91a8e555c5d0b61066e4be9483fa57</td>\n",
       "      <td>002d4ea7c04739c130bb74d7e7cd16943</td>\n",
       "      <td>17,640.0000</td>\n",
       "      <td>0.1000</td>\n",
       "      <td>210.0000</td>\n",
       "      <td>1.0000</td>\n",
       "      <td>4.0000</td>\n",
       "      <td>2020-01-02</td>\n",
       "      <td>Iron Man</td>\n",
       "      <td>G</td>\n",
       "      <td>17,640.0000</td>\n",
       "      <td>Curitiba</td>\n",
       "      <td>PR</td>\n",
       "      <td>1999-09-17</td>\n",
       "      <td>Homem</td>\n",
       "      <td>Curitiba</td>\n",
       "      <td>PR</td>\n",
       "    </tr>\n",
       "    <tr>\n",
       "      <th>...</th>\n",
       "      <td>...</td>\n",
       "      <td>...</td>\n",
       "      <td>...</td>\n",
       "      <td>...</td>\n",
       "      <td>...</td>\n",
       "      <td>...</td>\n",
       "      <td>...</td>\n",
       "      <td>...</td>\n",
       "      <td>...</td>\n",
       "      <td>...</td>\n",
       "      <td>...</td>\n",
       "      <td>...</td>\n",
       "      <td>...</td>\n",
       "      <td>...</td>\n",
       "      <td>...</td>\n",
       "      <td>...</td>\n",
       "      <td>...</td>\n",
       "    </tr>\n",
       "    <tr>\n",
       "      <th>32624</th>\n",
       "      <td>ae134de5629ae433d7a526ffb396750a</td>\n",
       "      <td>002d4ea7c04739c130bb74d7e7cd16943</td>\n",
       "      <td>14,527.0000</td>\n",
       "      <td>0.1000</td>\n",
       "      <td>210.0000</td>\n",
       "      <td>1.0000</td>\n",
       "      <td>22.0000</td>\n",
       "      <td>2019-07-26</td>\n",
       "      <td>Iron Man</td>\n",
       "      <td>G</td>\n",
       "      <td>14,527.0000</td>\n",
       "      <td>Belo Horizonte</td>\n",
       "      <td>BH</td>\n",
       "      <td>1975-11-29</td>\n",
       "      <td>Homem</td>\n",
       "      <td>Online</td>\n",
       "      <td>na</td>\n",
       "    </tr>\n",
       "    <tr>\n",
       "      <th>32626</th>\n",
       "      <td>1f40c568147d792b8ff628f54803a6f2</td>\n",
       "      <td>002d4ea7c04739c130bb74d7e7cd16943</td>\n",
       "      <td>20,330.0000</td>\n",
       "      <td>0.1000</td>\n",
       "      <td>210.0000</td>\n",
       "      <td>1.0000</td>\n",
       "      <td>22.0000</td>\n",
       "      <td>2018-07-04</td>\n",
       "      <td>Iron Man</td>\n",
       "      <td>G</td>\n",
       "      <td>20,330.0000</td>\n",
       "      <td>Belo Horizonte</td>\n",
       "      <td>BH</td>\n",
       "      <td>1957-10-19</td>\n",
       "      <td>Homem</td>\n",
       "      <td>Online</td>\n",
       "      <td>na</td>\n",
       "    </tr>\n",
       "    <tr>\n",
       "      <th>32627</th>\n",
       "      <td>4208d8402138f772f9c189a1859e1f55</td>\n",
       "      <td>002d4ea7c04739c130bb74d7e7cd16943</td>\n",
       "      <td>27,047.0000</td>\n",
       "      <td>0.1000</td>\n",
       "      <td>210.0000</td>\n",
       "      <td>1.0000</td>\n",
       "      <td>22.0000</td>\n",
       "      <td>2018-09-09</td>\n",
       "      <td>Iron Man</td>\n",
       "      <td>G</td>\n",
       "      <td>27,047.0000</td>\n",
       "      <td>Macaiba</td>\n",
       "      <td>RN</td>\n",
       "      <td>1970-05-01</td>\n",
       "      <td>Homem</td>\n",
       "      <td>Online</td>\n",
       "      <td>na</td>\n",
       "    </tr>\n",
       "    <tr>\n",
       "      <th>32629</th>\n",
       "      <td>fa4dc5d499f35cf8ea22c543c6a36c10</td>\n",
       "      <td>002d4ea7c04739c130bb74d7e7cd16943</td>\n",
       "      <td>27,139.0000</td>\n",
       "      <td>0.1000</td>\n",
       "      <td>210.0000</td>\n",
       "      <td>1.0000</td>\n",
       "      <td>22.0000</td>\n",
       "      <td>2018-05-04</td>\n",
       "      <td>Iron Man</td>\n",
       "      <td>G</td>\n",
       "      <td>27,139.0000</td>\n",
       "      <td>Belo Horizonte</td>\n",
       "      <td>BH</td>\n",
       "      <td>1975-07-27</td>\n",
       "      <td>Homem</td>\n",
       "      <td>Online</td>\n",
       "      <td>na</td>\n",
       "    </tr>\n",
       "    <tr>\n",
       "      <th>32631</th>\n",
       "      <td>320663ce04c21d3c2df2e5097f90695a</td>\n",
       "      <td>002d4ea7c04739c130bb74d7e7cd16943</td>\n",
       "      <td>27,937.0000</td>\n",
       "      <td>0.0800</td>\n",
       "      <td>210.0000</td>\n",
       "      <td>1.0000</td>\n",
       "      <td>22.0000</td>\n",
       "      <td>2018-06-22</td>\n",
       "      <td>Iron Man</td>\n",
       "      <td>G</td>\n",
       "      <td>27,937.0000</td>\n",
       "      <td>Belo Horizonte</td>\n",
       "      <td>BH</td>\n",
       "      <td>1962-01-09</td>\n",
       "      <td>Homem</td>\n",
       "      <td>Online</td>\n",
       "      <td>na</td>\n",
       "    </tr>\n",
       "  </tbody>\n",
       "</table>\n",
       "<p>963 rows × 17 columns</p>\n",
       "</div>"
      ],
      "text/plain": [
       "                                VendaID                          ProductID  \\\n",
       "51     6f118f6a730ce35b230974f295f743f9  002d4ea7c04739c130bb74d7e7cd16943   \n",
       "89     d80faf302bbccea1f0b613d440de4d33  002d4ea7c04739c130bb74d7e7cd16943   \n",
       "102    c239944e346dc1fde937d68eaaf858ac  002d4ea7c04739c130bb74d7e7cd16943   \n",
       "122    e2384e27d52c798743c71c9f2c57763a  002d4ea7c04739c130bb74d7e7cd16943   \n",
       "123    cc91a8e555c5d0b61066e4be9483fa57  002d4ea7c04739c130bb74d7e7cd16943   \n",
       "...                                 ...                                ...   \n",
       "32624  ae134de5629ae433d7a526ffb396750a  002d4ea7c04739c130bb74d7e7cd16943   \n",
       "32626  1f40c568147d792b8ff628f54803a6f2  002d4ea7c04739c130bb74d7e7cd16943   \n",
       "32627  4208d8402138f772f9c189a1859e1f55  002d4ea7c04739c130bb74d7e7cd16943   \n",
       "32629  fa4dc5d499f35cf8ea22c543c6a36c10  002d4ea7c04739c130bb74d7e7cd16943   \n",
       "32631  320663ce04c21d3c2df2e5097f90695a  002d4ea7c04739c130bb74d7e7cd16943   \n",
       "\n",
       "         ClientID  Discount  UnitPrice  Quantity  StoreID       Date  \\\n",
       "51    15,478.0000    0.0800   210.0000    1.0000   4.0000 2019-08-22   \n",
       "89    16,576.0000    0.1000   210.0000    1.0000   4.0000 2018-04-21   \n",
       "102   17,273.0000    0.1000   210.0000    1.0000   4.0000 2018-05-21   \n",
       "122   17,640.0000    0.0800   210.0000    2.0000   4.0000 2018-08-06   \n",
       "123   17,640.0000    0.1000   210.0000    1.0000   4.0000 2020-01-02   \n",
       "...           ...       ...        ...       ...      ...        ...   \n",
       "32624 14,527.0000    0.1000   210.0000    1.0000  22.0000 2019-07-26   \n",
       "32626 20,330.0000    0.1000   210.0000    1.0000  22.0000 2018-07-04   \n",
       "32627 27,047.0000    0.1000   210.0000    1.0000  22.0000 2018-09-09   \n",
       "32629 27,139.0000    0.1000   210.0000    1.0000  22.0000 2018-05-04   \n",
       "32631 27,937.0000    0.0800   210.0000    1.0000  22.0000 2018-06-22   \n",
       "\n",
       "      Name_Product Size     VendaID            City State_Client DateOfBirth  \\\n",
       "51        Iron Man    G 15,478.0000        Curitiba           PR  1962-12-30   \n",
       "89        Iron Man    G 16,576.0000        Curitiba           PR  1974-07-05   \n",
       "102       Iron Man    G 17,273.0000        Curitiba           PR  1987-06-26   \n",
       "122       Iron Man    G 17,640.0000        Curitiba           PR  1999-09-17   \n",
       "123       Iron Man    G 17,640.0000        Curitiba           PR  1999-09-17   \n",
       "...            ...  ...         ...             ...          ...         ...   \n",
       "32624     Iron Man    G 14,527.0000  Belo Horizonte           BH  1975-11-29   \n",
       "32626     Iron Man    G 20,330.0000  Belo Horizonte           BH  1957-10-19   \n",
       "32627     Iron Man    G 27,047.0000         Macaiba           RN  1970-05-01   \n",
       "32629     Iron Man    G 27,139.0000  Belo Horizonte           BH  1975-07-27   \n",
       "32631     Iron Man    G 27,937.0000  Belo Horizonte           BH  1962-01-09   \n",
       "\n",
       "         Sex Name_State State_Store  \n",
       "51     Homem   Curitiba          PR  \n",
       "89     Homem   Curitiba          PR  \n",
       "102    Homem   Curitiba          PR  \n",
       "122    Homem   Curitiba          PR  \n",
       "123    Homem   Curitiba          PR  \n",
       "...      ...        ...         ...  \n",
       "32624  Homem     Online          na  \n",
       "32626  Homem     Online          na  \n",
       "32627  Homem     Online          na  \n",
       "32629  Homem     Online          na  \n",
       "32631  Homem     Online          na  \n",
       "\n",
       "[963 rows x 17 columns]"
      ]
     },
     "execution_count": 22,
     "metadata": {},
     "output_type": "execute_result"
    }
   ],
   "source": [
    "df_ironman"
   ]
  },
  {
   "cell_type": "code",
   "execution_count": 36,
   "id": "d6f2feda",
   "metadata": {
    "ExecuteTime": {
     "end_time": "2022-03-21T14:56:21.349943Z",
     "start_time": "2022-03-21T14:56:21.294981Z"
    },
    "scrolled": true
   },
   "outputs": [
    {
     "data": {
      "text/html": [
       "<div>\n",
       "<style scoped>\n",
       "    .dataframe tbody tr th:only-of-type {\n",
       "        vertical-align: middle;\n",
       "    }\n",
       "\n",
       "    .dataframe tbody tr th {\n",
       "        vertical-align: top;\n",
       "    }\n",
       "\n",
       "    .dataframe thead th {\n",
       "        text-align: right;\n",
       "    }\n",
       "</style>\n",
       "<table border=\"1\" class=\"dataframe\">\n",
       "  <thead>\n",
       "    <tr style=\"text-align: right;\">\n",
       "      <th></th>\n",
       "      <th>VendaID</th>\n",
       "      <th>ProductID</th>\n",
       "      <th>ClientID</th>\n",
       "      <th>Discount</th>\n",
       "      <th>UnitPrice</th>\n",
       "      <th>Quantity</th>\n",
       "      <th>StoreID</th>\n",
       "      <th>Date</th>\n",
       "      <th>Name_Product</th>\n",
       "      <th>Size</th>\n",
       "      <th>VendaID</th>\n",
       "      <th>City</th>\n",
       "      <th>State_Client</th>\n",
       "      <th>DateOfBirth</th>\n",
       "      <th>Sex</th>\n",
       "      <th>Name_State</th>\n",
       "      <th>State_Store</th>\n",
       "      <th>Month</th>\n",
       "      <th>Year</th>\n",
       "    </tr>\n",
       "  </thead>\n",
       "  <tbody>\n",
       "    <tr>\n",
       "      <th>51</th>\n",
       "      <td>6f118f6a730ce35b230974f295f743f9</td>\n",
       "      <td>002d4ea7c04739c130bb74d7e7cd16943</td>\n",
       "      <td>15,478.0000</td>\n",
       "      <td>0.0800</td>\n",
       "      <td>210.0000</td>\n",
       "      <td>1.0000</td>\n",
       "      <td>4.0000</td>\n",
       "      <td>2019-08-22</td>\n",
       "      <td>Iron Man</td>\n",
       "      <td>G</td>\n",
       "      <td>15,478.0000</td>\n",
       "      <td>Curitiba</td>\n",
       "      <td>PR</td>\n",
       "      <td>1962-12-30</td>\n",
       "      <td>Homem</td>\n",
       "      <td>Curitiba</td>\n",
       "      <td>PR</td>\n",
       "      <td>8</td>\n",
       "      <td>2019</td>\n",
       "    </tr>\n",
       "  </tbody>\n",
       "</table>\n",
       "</div>"
      ],
      "text/plain": [
       "                             VendaID                          ProductID  \\\n",
       "51  6f118f6a730ce35b230974f295f743f9  002d4ea7c04739c130bb74d7e7cd16943   \n",
       "\n",
       "      ClientID  Discount  UnitPrice  Quantity  StoreID       Date  \\\n",
       "51 15,478.0000    0.0800   210.0000    1.0000   4.0000 2019-08-22   \n",
       "\n",
       "   Name_Product Size     VendaID      City State_Client DateOfBirth    Sex  \\\n",
       "51     Iron Man    G 15,478.0000  Curitiba           PR  1962-12-30  Homem   \n",
       "\n",
       "   Name_State State_Store  Month  Year  \n",
       "51   Curitiba          PR      8  2019  "
      ]
     },
     "execution_count": 36,
     "metadata": {},
     "output_type": "execute_result"
    }
   ],
   "source": [
    "import datetime\n",
    "df_ironman['Month'] = df_ironman['Date'].map(\n",
    "    lambda x: x.month\n",
    ")\n",
    "df_ironman['Year'] = df_ironman['Date'].map(\n",
    "    lambda x: x.year\n",
    ")\n",
    "df_ironman.head(1)"
   ]
  },
  {
   "cell_type": "code",
   "execution_count": 37,
   "id": "f4c59b21",
   "metadata": {
    "ExecuteTime": {
     "end_time": "2022-03-21T14:57:09.238850Z",
     "start_time": "2022-03-21T14:57:09.223860Z"
    }
   },
   "outputs": [
    {
     "data": {
      "text/plain": [
       "963"
      ]
     },
     "execution_count": 37,
     "metadata": {},
     "output_type": "execute_result"
    }
   ],
   "source": [
    "len(df_ironman)"
   ]
  },
  {
   "cell_type": "code",
   "execution_count": 38,
   "id": "121f0344",
   "metadata": {
    "ExecuteTime": {
     "end_time": "2022-03-21T14:57:14.753568Z",
     "start_time": "2022-03-21T14:57:14.742574Z"
    }
   },
   "outputs": [
    {
     "data": {
      "text/plain": [
       "419"
      ]
     },
     "execution_count": 38,
     "metadata": {},
     "output_type": "execute_result"
    }
   ],
   "source": [
    "df_ironman = df_ironman[ df_ironman['Year'] == 2019]\n",
    "len(df_ironman)"
   ]
  },
  {
   "cell_type": "code",
   "execution_count": 41,
   "id": "03acc341",
   "metadata": {
    "ExecuteTime": {
     "end_time": "2022-03-21T14:58:30.443008Z",
     "start_time": "2022-03-21T14:58:29.942201Z"
    }
   },
   "outputs": [
    {
     "data": {
      "text/plain": [
       "<AxesSubplot:xlabel='Month'>"
      ]
     },
     "execution_count": 41,
     "metadata": {},
     "output_type": "execute_result"
    },
    {
     "data": {
      "image/png": "[encoded data removed]",
      "text/plain": [
       "<Figure size 576x396 with 1 Axes>"
      ]
     },
     "metadata": {},
     "output_type": "display_data"
    }
   ],
   "source": [
    "df_ironman.groupby('Month').count().plot()"
   ]
  },
  {
   "cell_type": "markdown",
   "id": "5b5c3d04",
   "metadata": {},
   "source": [
    "8. Considerando a receita líquida mensal de vendas em 2019. Quais os valores de: média, mediana e desvio padrão desses valores? \n",
    "\n",
    "+ [X] R\\$ 324.240,93 // R\\$ 285.989,90 // R\\$ 105.678,21\n",
    "\n",
    "+ R\\$ 294.265,10 // R\\$ 257.390,91 // R\\$ 99.304,56\n",
    "\n",
    "+ R\\$ 581.154,28 // R\\$ 567.938,91 // R\\$ 201.374,01\n",
    "\n",
    "+ R\\$ 309.649,20 // R\\$ 273.622,30 // R\\$ 99.616,64"
   ]
  },
  {
   "cell_type": "code",
   "execution_count": 42,
   "id": "653aec8d",
   "metadata": {
    "ExecuteTime": {
     "end_time": "2022-03-21T14:59:55.379123Z",
     "start_time": "2022-03-21T14:59:54.902458Z"
    }
   },
   "outputs": [],
   "source": [
    "df['Month'] = df['Date'].map(\n",
    "    lambda x: x.month\n",
    ")\n",
    "df['Year'] = df['Date'].map(\n",
    "    lambda x: x.year\n",
    ")"
   ]
  },
  {
   "cell_type": "code",
   "execution_count": 43,
   "id": "22d7275b",
   "metadata": {
    "ExecuteTime": {
     "end_time": "2022-03-21T15:00:09.685157Z",
     "start_time": "2022-03-21T15:00:09.662171Z"
    }
   },
   "outputs": [],
   "source": [
    "df_2019 = df[ df['Year'] == 2019]"
   ]
  },
  {
   "cell_type": "code",
   "execution_count": 46,
   "id": "3f132a78",
   "metadata": {
    "ExecuteTime": {
     "end_time": "2022-03-21T15:03:40.933511Z",
     "start_time": "2022-03-21T15:03:40.901531Z"
    }
   },
   "outputs": [
    {
     "data": {
      "text/html": [
       "<div>\n",
       "<style scoped>\n",
       "    .dataframe tbody tr th:only-of-type {\n",
       "        vertical-align: middle;\n",
       "    }\n",
       "\n",
       "    .dataframe tbody tr th {\n",
       "        vertical-align: top;\n",
       "    }\n",
       "\n",
       "    .dataframe thead th {\n",
       "        text-align: right;\n",
       "    }\n",
       "</style>\n",
       "<table border=\"1\" class=\"dataframe\">\n",
       "  <thead>\n",
       "    <tr style=\"text-align: right;\">\n",
       "      <th></th>\n",
       "      <th>VendaID</th>\n",
       "      <th>ProductID</th>\n",
       "      <th>ClientID</th>\n",
       "      <th>Discount</th>\n",
       "      <th>UnitPrice</th>\n",
       "      <th>Quantity</th>\n",
       "      <th>StoreID</th>\n",
       "      <th>Date</th>\n",
       "      <th>Name_Product</th>\n",
       "      <th>Size</th>\n",
       "      <th>VendaID</th>\n",
       "      <th>City</th>\n",
       "      <th>State_Client</th>\n",
       "      <th>DateOfBirth</th>\n",
       "      <th>Sex</th>\n",
       "      <th>Name_State</th>\n",
       "      <th>State_Store</th>\n",
       "      <th>Month</th>\n",
       "      <th>Year</th>\n",
       "      <th>Total</th>\n",
       "    </tr>\n",
       "  </thead>\n",
       "  <tbody>\n",
       "    <tr>\n",
       "      <th>1</th>\n",
       "      <td>3275736da1234f55d52bdf09d86b93bc</td>\n",
       "      <td>001b237c0e9bb435f2e54071129237e93</td>\n",
       "      <td>14,001.0000</td>\n",
       "      <td>0.1000</td>\n",
       "      <td>162.4000</td>\n",
       "      <td>1.0000</td>\n",
       "      <td>4.0000</td>\n",
       "      <td>2019-04-25</td>\n",
       "      <td>Thanos</td>\n",
       "      <td>G</td>\n",
       "      <td>14,001.0000</td>\n",
       "      <td>Curitiba</td>\n",
       "      <td>PR</td>\n",
       "      <td>1985-06-28</td>\n",
       "      <td>Homem</td>\n",
       "      <td>Curitiba</td>\n",
       "      <td>PR</td>\n",
       "      <td>4</td>\n",
       "      <td>2019</td>\n",
       "      <td>162.4000</td>\n",
       "    </tr>\n",
       "    <tr>\n",
       "      <th>2</th>\n",
       "      <td>f3513eec8f1434b5b7e04ddf3598df40</td>\n",
       "      <td>00066f42aeeb9f3007548bb9d3f33c381</td>\n",
       "      <td>14,001.0000</td>\n",
       "      <td>0.1000</td>\n",
       "      <td>194.6000</td>\n",
       "      <td>1.0000</td>\n",
       "      <td>4.0000</td>\n",
       "      <td>2019-07-17</td>\n",
       "      <td>Capitão América</td>\n",
       "      <td>P</td>\n",
       "      <td>14,001.0000</td>\n",
       "      <td>Curitiba</td>\n",
       "      <td>PR</td>\n",
       "      <td>1985-06-28</td>\n",
       "      <td>Homem</td>\n",
       "      <td>Curitiba</td>\n",
       "      <td>PR</td>\n",
       "      <td>7</td>\n",
       "      <td>2019</td>\n",
       "      <td>194.6000</td>\n",
       "    </tr>\n",
       "    <tr>\n",
       "      <th>4</th>\n",
       "      <td>961b75f90f3f09b0b5b5526073ec83e7</td>\n",
       "      <td>002959d7a0b0990fe2d69988affcbc803</td>\n",
       "      <td>14,116.0000</td>\n",
       "      <td>0.1000</td>\n",
       "      <td>261.8000</td>\n",
       "      <td>2.0000</td>\n",
       "      <td>4.0000</td>\n",
       "      <td>2019-05-07</td>\n",
       "      <td>Ciclope</td>\n",
       "      <td>G</td>\n",
       "      <td>14,116.0000</td>\n",
       "      <td>Curitiba</td>\n",
       "      <td>PR</td>\n",
       "      <td>1987-10-21</td>\n",
       "      <td>Homem</td>\n",
       "      <td>Curitiba</td>\n",
       "      <td>PR</td>\n",
       "      <td>5</td>\n",
       "      <td>2019</td>\n",
       "      <td>523.6000</td>\n",
       "    </tr>\n",
       "    <tr>\n",
       "      <th>10</th>\n",
       "      <td>7e4f454abfc163899a6ef5b4d5facfb2</td>\n",
       "      <td>0030026a6ddb3b2d1d4bc225b4b4c4da3</td>\n",
       "      <td>14,148.0000</td>\n",
       "      <td>0.1000</td>\n",
       "      <td>233.8000</td>\n",
       "      <td>1.0000</td>\n",
       "      <td>4.0000</td>\n",
       "      <td>2019-11-29</td>\n",
       "      <td>League Legends</td>\n",
       "      <td>G</td>\n",
       "      <td>14,148.0000</td>\n",
       "      <td>Curitiba</td>\n",
       "      <td>PR</td>\n",
       "      <td>1961-09-19</td>\n",
       "      <td>Homem</td>\n",
       "      <td>Curitiba</td>\n",
       "      <td>PR</td>\n",
       "      <td>11</td>\n",
       "      <td>2019</td>\n",
       "      <td>233.8000</td>\n",
       "    </tr>\n",
       "    <tr>\n",
       "      <th>11</th>\n",
       "      <td>45ee8ea280c9b83f9ca39f76dfe23919</td>\n",
       "      <td>002552c0663708129c0019cc97552d7d3</td>\n",
       "      <td>14,166.0000</td>\n",
       "      <td>0.1000</td>\n",
       "      <td>249.2000</td>\n",
       "      <td>1.0000</td>\n",
       "      <td>4.0000</td>\n",
       "      <td>2019-02-21</td>\n",
       "      <td>Tempestade</td>\n",
       "      <td>G</td>\n",
       "      <td>14,166.0000</td>\n",
       "      <td>Curitiba</td>\n",
       "      <td>PR</td>\n",
       "      <td>1972-07-22</td>\n",
       "      <td>Homem</td>\n",
       "      <td>Curitiba</td>\n",
       "      <td>PR</td>\n",
       "      <td>2</td>\n",
       "      <td>2019</td>\n",
       "      <td>249.2000</td>\n",
       "    </tr>\n",
       "  </tbody>\n",
       "</table>\n",
       "</div>"
      ],
      "text/plain": [
       "                             VendaID                          ProductID  \\\n",
       "1   3275736da1234f55d52bdf09d86b93bc  001b237c0e9bb435f2e54071129237e93   \n",
       "2   f3513eec8f1434b5b7e04ddf3598df40  00066f42aeeb9f3007548bb9d3f33c381   \n",
       "4   961b75f90f3f09b0b5b5526073ec83e7  002959d7a0b0990fe2d69988affcbc803   \n",
       "10  7e4f454abfc163899a6ef5b4d5facfb2  0030026a6ddb3b2d1d4bc225b4b4c4da3   \n",
       "11  45ee8ea280c9b83f9ca39f76dfe23919  002552c0663708129c0019cc97552d7d3   \n",
       "\n",
       "      ClientID  Discount  UnitPrice  Quantity  StoreID       Date  \\\n",
       "1  14,001.0000    0.1000   162.4000    1.0000   4.0000 2019-04-25   \n",
       "2  14,001.0000    0.1000   194.6000    1.0000   4.0000 2019-07-17   \n",
       "4  14,116.0000    0.1000   261.8000    2.0000   4.0000 2019-05-07   \n",
       "10 14,148.0000    0.1000   233.8000    1.0000   4.0000 2019-11-29   \n",
       "11 14,166.0000    0.1000   249.2000    1.0000   4.0000 2019-02-21   \n",
       "\n",
       "       Name_Product Size     VendaID      City State_Client DateOfBirth  \\\n",
       "1            Thanos    G 14,001.0000  Curitiba           PR  1985-06-28   \n",
       "2   Capitão América    P 14,001.0000  Curitiba           PR  1985-06-28   \n",
       "4           Ciclope    G 14,116.0000  Curitiba           PR  1987-10-21   \n",
       "10   League Legends    G 14,148.0000  Curitiba           PR  1961-09-19   \n",
       "11       Tempestade    G 14,166.0000  Curitiba           PR  1972-07-22   \n",
       "\n",
       "      Sex Name_State State_Store  Month  Year    Total  \n",
       "1   Homem   Curitiba          PR      4  2019 162.4000  \n",
       "2   Homem   Curitiba          PR      7  2019 194.6000  \n",
       "4   Homem   Curitiba          PR      5  2019 523.6000  \n",
       "10  Homem   Curitiba          PR     11  2019 233.8000  \n",
       "11  Homem   Curitiba          PR      2  2019 249.2000  "
      ]
     },
     "execution_count": 46,
     "metadata": {},
     "output_type": "execute_result"
    }
   ],
   "source": [
    "df_2019['Total'] = df_2019['Quantity'] * df_2019['UnitPrice']\n",
    "df_2019.head()"
   ]
  },
  {
   "cell_type": "code",
   "execution_count": 58,
   "id": "a06c5b55",
   "metadata": {
    "ExecuteTime": {
     "end_time": "2022-03-21T15:08:16.599902Z",
     "start_time": "2022-03-21T15:08:16.577915Z"
    }
   },
   "outputs": [
    {
     "data": {
      "text/plain": [
       "324240.9333333333"
      ]
     },
     "execution_count": 58,
     "metadata": {},
     "output_type": "execute_result"
    }
   ],
   "source": [
    "df_2019.groupby('Month').sum()['Total'].mean()"
   ]
  },
  {
   "cell_type": "code",
   "execution_count": 59,
   "id": "607dc74c",
   "metadata": {
    "ExecuteTime": {
     "end_time": "2022-03-21T15:08:27.446228Z",
     "start_time": "2022-03-21T15:08:27.417244Z"
    }
   },
   "outputs": [
    {
     "data": {
      "text/plain": [
       "285989.9"
      ]
     },
     "execution_count": 59,
     "metadata": {},
     "output_type": "execute_result"
    }
   ],
   "source": [
    "df_2019.groupby('Month').sum()['Total'].median()"
   ]
  },
  {
   "cell_type": "code",
   "execution_count": 61,
   "id": "5ba3400b",
   "metadata": {
    "ExecuteTime": {
     "end_time": "2022-03-21T15:08:46.020691Z",
     "start_time": "2022-03-21T15:08:46.001703Z"
    }
   },
   "outputs": [
    {
     "data": {
      "text/plain": [
       "105678.2097981099"
      ]
     },
     "execution_count": 61,
     "metadata": {},
     "output_type": "execute_result"
    }
   ],
   "source": [
    "df_2019.groupby('Month').sum()['Total'].std()"
   ]
  },
  {
   "cell_type": "markdown",
   "id": "2487f042",
   "metadata": {},
   "source": [
    "9. Ainda considerando os dados de receita líquida de vendas em 2019, seu time deve focar esforços em uma das lojas para criar análises mais profundas e a primeira versão do modelo preditivo. Qual destas lojas você escolheria para prosseguir com o projeto? (1 ponto)\n",
    "\n",
    "+ [x] Florianópolis\n",
    "+ Online\n",
    "+ Rio de Janeiro\n",
    "+ Curitiba"
   ]
  },
  {
   "cell_type": "code",
   "execution_count": 63,
   "id": "57397dbc",
   "metadata": {
    "ExecuteTime": {
     "end_time": "2022-03-21T15:11:11.847915Z",
     "start_time": "2022-03-21T15:11:11.822937Z"
    }
   },
   "outputs": [
    {
     "data": {
      "text/plain": [
       "Florianópolis     3750\n",
       "Rio de Janeiro    3048\n",
       "Porto Alegre      2814\n",
       "Curitiba          2304\n",
       "São Paulo         1602\n",
       "Belo Horizonte     823\n",
       "Online             427\n",
       "Name: Name_State, dtype: int64"
      ]
     },
     "execution_count": 63,
     "metadata": {},
     "output_type": "execute_result"
    }
   ],
   "source": [
    "df_2019['Name_State'].value_counts()"
   ]
  },
  {
   "cell_type": "markdown",
   "id": "693be71d",
   "metadata": {},
   "source": [
    "10. Suponha que após realizar todas as etapas necessárias, seu time chegou em alguns modelos de forecasting para o volume mensal de vendas. Foram conduzidos alguns experimentos e os resultados de diferentes valores de erro percentual médio (MAPE) são apresentados abaixo. Dos resultados abaixo, qual o mais razoável que você escolheria para colocar o modelo em produção no ambiente do cliente? \n",
    "\n",
    "\n",
    "+ 45%\n",
    "+ 10%\n",
    "+ 0%\n",
    "+ [x] 0,008%\n",
    "\n",
    "Ter o MAPE 0% seria prever perfeitamente\n",
    "\n",
    "-----\n",
    "\n",
    "MAPE\n",
    "O erro médio absoluto percentual (MAPE) expressa precisão como uma porcentagem do erro. Como o MAPE é uma porcentagem, pode ser mais fácil de entender do que as outras estatísticas de medida de precisão. Por exemplo, se o MAPE é 5, em média, a previsão está incorreta em 5%.\n",
    "\n",
    "No entanto, às vezes é possível observar um valor grande de MAPE mesmo que o modelo pareça ajustar bem os dados. Examine o gráfico para ver se todos os valores de dados estão próximos de 0. Como MAPE divide o erro absoluto pelos dados reais, valores próximos de 0 podem inflar em muito o MAPE.\n",
    "\n",
    "Interpretação\n",
    "Use para comparar os ajustes de diferentes modelos de séries temporais. Valores menores indicam um ajuste melhor. Se um único modelo não tem os valores mais baixos para todas as 3 medidas de precisão, em geral, o MAPE é a medida preferida."
   ]
  },
  {
   "cell_type": "code",
   "execution_count": 13,
   "id": "919daff4",
   "metadata": {
    "ExecuteTime": {
     "end_time": "2022-04-11T13:49:30.895612Z",
     "start_time": "2022-04-11T13:49:28.066979Z"
    }
   },
   "outputs": [
    {
     "name": "stdout",
     "output_type": "stream",
     "text": [
      "Pixiedust database opened successfully\n",
      "Table VERSION_TRACKER created successfully\n",
      "Table METRICS_TRACKER created successfully\n",
      "\n",
      "Share anonymous install statistics? (opt-out instructions)\n",
      "\n",
      "PixieDust will record metadata on its environment the next time the package is installed or updated. The data is anonymized and aggregated to help plan for future releases, and records only the following values:\n",
      "\n",
      "{\n",
      "   \"data_sent\": currentDate,\n",
      "   \"runtime\": \"python\",\n",
      "   \"application_version\": currentPixiedustVersion,\n",
      "   \"space_id\": nonIdentifyingUniqueId,\n",
      "   \"config\": {\n",
      "       \"repository_id\": \"https://github.com/ibm-watson-data-lab/pixiedust\",\n",
      "       \"target_runtimes\": [\"Data Science Experience\"],\n",
      "       \"event_id\": \"web\",\n",
      "       \"event_organizer\": \"dev-journeys\"\n",
      "   }\n",
      "}\n",
      "You can opt out by calling pixiedust.optOut() in a new cell.\n"
     ]
    },
    {
     "data": {
      "text/html": [
       "\n",
       "        <div style=\"margin:10px\">\n",
       "            <a href=\"https://github.com/ibm-watson-data-lab/pixiedust\" target=\"_new\">\n",
       "                <img src=\"https://github.com/ibm-watson-data-lab/pixiedust/raw/master/docs/_static/pd_icon32.png\" style=\"float:left;margin-right:10px\"/>\n",
       "            </a>\n",
       "            <span>Pixiedust version 1.1.19</span>\n",
       "        </div>\n",
       "        "
      ],
      "text/plain": [
       "<IPython.core.display.HTML object>"
      ]
     },
     "metadata": {},
     "output_type": "display_data"
    },
    {
     "name": "stdout",
     "output_type": "stream",
     "text": [
      "\u001b[31mPixiedust runtime updated. Please restart kernel\u001b[0m\n"
     ]
    },
    {
     "ename": "AttributeError",
     "evalue": "module 'jinja2.ext' has no attribute 'with_'",
     "output_type": "error",
     "traceback": [
      "\u001b[1;31m---------------------------------------------------------------------------\u001b[0m",
      "\u001b[1;31mAttributeError\u001b[0m                            Traceback (most recent call last)",
      "Input \u001b[1;32mIn [13]\u001b[0m, in \u001b[0;36m<cell line: 1>\u001b[1;34m()\u001b[0m\n\u001b[1;32m----> 1\u001b[0m \u001b[38;5;28;01mimport\u001b[39;00m \u001b[38;5;21;01mpixiedust\u001b[39;00m\n",
      "File \u001b[1;32mC:\\Python310\\lib\\site-packages\\pixiedust\\__init__.py:59\u001b[0m, in \u001b[0;36m<module>\u001b[1;34m\u001b[0m\n\u001b[0;32m     57\u001b[0m \u001b[38;5;28;01mtry\u001b[39;00m:\n\u001b[0;32m     58\u001b[0m     \u001b[38;5;28;01mfrom\u001b[39;00m \u001b[38;5;21;01mIPython\u001b[39;00m\u001b[38;5;21;01m.\u001b[39;00m\u001b[38;5;21;01mcore\u001b[39;00m\u001b[38;5;21;01m.\u001b[39;00m\u001b[38;5;21;01mgetipython\u001b[39;00m \u001b[38;5;28;01mimport\u001b[39;00m get_ipython\n\u001b[1;32m---> 59\u001b[0m     \u001b[38;5;28;01mfrom\u001b[39;00m \u001b[38;5;21;01mpixiedust\u001b[39;00m\u001b[38;5;21;01m.\u001b[39;00m\u001b[38;5;21;01mdisplay\u001b[39;00m \u001b[38;5;28;01mimport\u001b[39;00m display\n\u001b[0;32m     60\u001b[0m     \u001b[38;5;28;01mimport\u001b[39;00m \u001b[38;5;21;01mpixiedust\u001b[39;00m\u001b[38;5;21;01m.\u001b[39;00m\u001b[38;5;21;01mservices\u001b[39;00m\n\u001b[0;32m     61\u001b[0m     \u001b[38;5;28;01mif\u001b[39;00m \u001b[38;5;124m\"\u001b[39m\u001b[38;5;124mdisplay\u001b[39m\u001b[38;5;124m\"\u001b[39m \u001b[38;5;129;01mnot\u001b[39;00m \u001b[38;5;129;01min\u001b[39;00m get_ipython()\u001b[38;5;241m.\u001b[39muser_ns:\n\u001b[0;32m     62\u001b[0m         \u001b[38;5;66;03m#be nice, only set the display variable on the user namespace if it's not already taken\u001b[39;00m\n",
      "File \u001b[1;32mC:\\Python310\\lib\\site-packages\\pixiedust\\display\\__init__.py:39\u001b[0m, in \u001b[0;36m<module>\u001b[1;34m\u001b[0m\n\u001b[0;32m     36\u001b[0m     \u001b[38;5;28;01mglobal\u001b[39;00m displayRunListeners\n\u001b[0;32m     37\u001b[0m     displayRunListeners\u001b[38;5;241m.\u001b[39mappend(listener)\n\u001b[1;32m---> 39\u001b[0m \u001b[38;5;28;01mfrom\u001b[39;00m \u001b[38;5;21;01m.\u001b[39;00m\u001b[38;5;21;01mdisplay\u001b[39;00m \u001b[38;5;28;01mimport\u001b[39;00m \u001b[38;5;241m*\u001b[39m\n\u001b[0;32m     40\u001b[0m \u001b[38;5;28;01mfrom\u001b[39;00m \u001b[38;5;21;01m.\u001b[39;00m\u001b[38;5;21;01mchart\u001b[39;00m \u001b[38;5;28;01mimport\u001b[39;00m \u001b[38;5;241m*\u001b[39m\n\u001b[0;32m     41\u001b[0m \u001b[38;5;28;01mif\u001b[39;00m PD_Environment\u001b[38;5;241m.\u001b[39mhasSpark:\n",
      "File \u001b[1;32mC:\\Python310\\lib\\site-packages\\pixiedust\\display\\display.py:186\u001b[0m, in \u001b[0;36m<module>\u001b[1;34m\u001b[0m\n\u001b[0;32m    182\u001b[0m     \u001b[38;5;28;01mdef\u001b[39;00m \u001b[38;5;21mcreateCategories\u001b[39m(\u001b[38;5;28mself\u001b[39m):\n\u001b[0;32m    183\u001b[0m         \u001b[38;5;28;01mreturn\u001b[39;00m []\n\u001b[0;32m    185\u001b[0m \u001b[38;5;129m@Logger\u001b[39m()\n\u001b[1;32m--> 186\u001b[0m \u001b[38;5;28;01mclass\u001b[39;00m \u001b[38;5;21;01mDisplay\u001b[39;00m(with_metaclass(ABCMeta)):\n\u001b[0;32m    187\u001b[0m \n\u001b[0;32m    188\u001b[0m     \u001b[38;5;66;03m#global jinja2 Environment\u001b[39;00m\n\u001b[0;32m    189\u001b[0m     env \u001b[38;5;241m=\u001b[39m PixiedustTemplateEnvironment()\n\u001b[0;32m    191\u001b[0m     \u001b[38;5;28;01mdef\u001b[39;00m \u001b[38;5;21m__init__\u001b[39m(\u001b[38;5;28mself\u001b[39m, options, entity, dataHandler\u001b[38;5;241m=\u001b[39m\u001b[38;5;28;01mNone\u001b[39;00m):\n",
      "File \u001b[1;32mC:\\Python310\\lib\\site-packages\\pixiedust\\display\\display.py:189\u001b[0m, in \u001b[0;36mDisplay\u001b[1;34m()\u001b[0m\n\u001b[0;32m    185\u001b[0m \u001b[38;5;129m@Logger\u001b[39m()\n\u001b[0;32m    186\u001b[0m \u001b[38;5;28;01mclass\u001b[39;00m \u001b[38;5;21;01mDisplay\u001b[39;00m(with_metaclass(ABCMeta)):\n\u001b[0;32m    187\u001b[0m \n\u001b[0;32m    188\u001b[0m     \u001b[38;5;66;03m#global jinja2 Environment\u001b[39;00m\n\u001b[1;32m--> 189\u001b[0m     env \u001b[38;5;241m=\u001b[39m \u001b[43mPixiedustTemplateEnvironment\u001b[49m\u001b[43m(\u001b[49m\u001b[43m)\u001b[49m\n\u001b[0;32m    191\u001b[0m     \u001b[38;5;28;01mdef\u001b[39;00m \u001b[38;5;21m__init__\u001b[39m(\u001b[38;5;28mself\u001b[39m, options, entity, dataHandler\u001b[38;5;241m=\u001b[39m\u001b[38;5;28;01mNone\u001b[39;00m):\n\u001b[0;32m    192\u001b[0m         \u001b[38;5;28mself\u001b[39m\u001b[38;5;241m.\u001b[39mentity\u001b[38;5;241m=\u001b[39mentity\n",
      "File \u001b[1;32mC:\\Python310\\lib\\site-packages\\pixiedust\\utils\\template.py:77\u001b[0m, in \u001b[0;36mPixiedustTemplateEnvironment.__init__\u001b[1;34m(self, baseModule)\u001b[0m\n\u001b[0;32m     75\u001b[0m     frm \u001b[38;5;241m=\u001b[39m inspect\u001b[38;5;241m.\u001b[39mstack()[\u001b[38;5;241m1\u001b[39m]\n\u001b[0;32m     76\u001b[0m     baseModule \u001b[38;5;241m=\u001b[39m inspect\u001b[38;5;241m.\u001b[39mgetmodule(frm[\u001b[38;5;241m0\u001b[39m])\u001b[38;5;241m.\u001b[39m\u001b[38;5;18m__name__\u001b[39m\n\u001b[1;32m---> 77\u001b[0m \u001b[38;5;28mself\u001b[39m\u001b[38;5;241m.\u001b[39menv \u001b[38;5;241m=\u001b[39m \u001b[43mEnvironment\u001b[49m\u001b[43m(\u001b[49m\u001b[43mloader\u001b[49m\u001b[38;5;241;43m=\u001b[39;49m\u001b[43mPixiedustTemplateLoader\u001b[49m\u001b[43m(\u001b[49m\u001b[43mbaseModule\u001b[49m\u001b[43m)\u001b[49m\u001b[43m,\u001b[49m\u001b[43mextensions\u001b[49m\u001b[38;5;241;43m=\u001b[39;49m\u001b[43m[\u001b[49m\u001b[38;5;124;43m'\u001b[39;49m\u001b[38;5;124;43mjinja2.ext.with_\u001b[39;49m\u001b[38;5;124;43m'\u001b[39;49m\u001b[43m]\u001b[49m\u001b[43m)\u001b[49m\n\u001b[0;32m     78\u001b[0m \u001b[38;5;28mself\u001b[39m\u001b[38;5;241m.\u001b[39menv\u001b[38;5;241m.\u001b[39mfilters[\u001b[38;5;124m\"\u001b[39m\u001b[38;5;124moneline\u001b[39m\u001b[38;5;124m\"\u001b[39m]\u001b[38;5;241m=\u001b[39m\u001b[38;5;28;01mlambda\u001b[39;00m s:reduce(\u001b[38;5;28;01mlambda\u001b[39;00m s, l: s\u001b[38;5;241m+\u001b[39ml, s\u001b[38;5;241m.\u001b[39msplit(\u001b[38;5;124m\"\u001b[39m\u001b[38;5;130;01m\\n\u001b[39;00m\u001b[38;5;124m\"\u001b[39m), \u001b[38;5;124m\"\u001b[39m\u001b[38;5;124m\"\u001b[39m) \u001b[38;5;28;01mif\u001b[39;00m s \u001b[38;5;28;01melse\u001b[39;00m s\n\u001b[0;32m     79\u001b[0m \u001b[38;5;28mself\u001b[39m\u001b[38;5;241m.\u001b[39menv\u001b[38;5;241m.\u001b[39mfilters[\u001b[38;5;124m\"\u001b[39m\u001b[38;5;124mbase64dataUri\u001b[39m\u001b[38;5;124m\"\u001b[39m]\u001b[38;5;241m=\u001b[39m\u001b[38;5;28;01mlambda\u001b[39;00m s: \u001b[38;5;124m'\u001b[39m\u001b[38;5;124mdata:image/png;base64,\u001b[39m\u001b[38;5;132;01m{0}\u001b[39;00m\u001b[38;5;124m'\u001b[39m\u001b[38;5;241m.\u001b[39mformat(\u001b[38;5;28mself\u001b[39m\u001b[38;5;241m.\u001b[39mgetTemplate(s\u001b[38;5;241m+\u001b[39m\u001b[38;5;124m\"\u001b[39m\u001b[38;5;124m#base64\u001b[39m\u001b[38;5;124m\"\u001b[39m)\u001b[38;5;241m.\u001b[39mrender())\n",
      "File \u001b[1;32mC:\\Python310\\lib\\site-packages\\jinja2\\environment.py:363\u001b[0m, in \u001b[0;36mEnvironment.__init__\u001b[1;34m(self, block_start_string, block_end_string, variable_start_string, variable_end_string, comment_start_string, comment_end_string, line_statement_prefix, line_comment_prefix, trim_blocks, lstrip_blocks, newline_sequence, keep_trailing_newline, extensions, optimized, undefined, finalize, autoescape, loader, cache_size, auto_reload, bytecode_cache, enable_async)\u001b[0m\n\u001b[0;32m    360\u001b[0m \u001b[38;5;28mself\u001b[39m\u001b[38;5;241m.\u001b[39mpolicies \u001b[38;5;241m=\u001b[39m DEFAULT_POLICIES\u001b[38;5;241m.\u001b[39mcopy()\n\u001b[0;32m    362\u001b[0m \u001b[38;5;66;03m# load extensions\u001b[39;00m\n\u001b[1;32m--> 363\u001b[0m \u001b[38;5;28mself\u001b[39m\u001b[38;5;241m.\u001b[39mextensions \u001b[38;5;241m=\u001b[39m \u001b[43mload_extensions\u001b[49m\u001b[43m(\u001b[49m\u001b[38;5;28;43mself\u001b[39;49m\u001b[43m,\u001b[49m\u001b[43m \u001b[49m\u001b[43mextensions\u001b[49m\u001b[43m)\u001b[49m\n\u001b[0;32m    365\u001b[0m \u001b[38;5;28mself\u001b[39m\u001b[38;5;241m.\u001b[39mis_async \u001b[38;5;241m=\u001b[39m enable_async\n\u001b[0;32m    366\u001b[0m _environment_config_check(\u001b[38;5;28mself\u001b[39m)\n",
      "File \u001b[1;32mC:\\Python310\\lib\\site-packages\\jinja2\\environment.py:117\u001b[0m, in \u001b[0;36mload_extensions\u001b[1;34m(environment, extensions)\u001b[0m\n\u001b[0;32m    115\u001b[0m \u001b[38;5;28;01mfor\u001b[39;00m extension \u001b[38;5;129;01min\u001b[39;00m extensions:\n\u001b[0;32m    116\u001b[0m     \u001b[38;5;28;01mif\u001b[39;00m \u001b[38;5;28misinstance\u001b[39m(extension, \u001b[38;5;28mstr\u001b[39m):\n\u001b[1;32m--> 117\u001b[0m         extension \u001b[38;5;241m=\u001b[39m t\u001b[38;5;241m.\u001b[39mcast(t\u001b[38;5;241m.\u001b[39mType[\u001b[38;5;124m\"\u001b[39m\u001b[38;5;124mExtension\u001b[39m\u001b[38;5;124m\"\u001b[39m], \u001b[43mimport_string\u001b[49m\u001b[43m(\u001b[49m\u001b[43mextension\u001b[49m\u001b[43m)\u001b[49m)\n\u001b[0;32m    119\u001b[0m     result[extension\u001b[38;5;241m.\u001b[39midentifier] \u001b[38;5;241m=\u001b[39m extension(environment)\n\u001b[0;32m    121\u001b[0m \u001b[38;5;28;01mreturn\u001b[39;00m result\n",
      "File \u001b[1;32mC:\\Python310\\lib\\site-packages\\jinja2\\utils.py:149\u001b[0m, in \u001b[0;36mimport_string\u001b[1;34m(import_name, silent)\u001b[0m\n\u001b[0;32m    147\u001b[0m     \u001b[38;5;28;01melse\u001b[39;00m:\n\u001b[0;32m    148\u001b[0m         \u001b[38;5;28;01mreturn\u001b[39;00m \u001b[38;5;28m__import__\u001b[39m(import_name)\n\u001b[1;32m--> 149\u001b[0m     \u001b[38;5;28;01mreturn\u001b[39;00m \u001b[38;5;28;43mgetattr\u001b[39;49m\u001b[43m(\u001b[49m\u001b[38;5;28;43m__import__\u001b[39;49m\u001b[43m(\u001b[49m\u001b[43mmodule\u001b[49m\u001b[43m,\u001b[49m\u001b[43m \u001b[49m\u001b[38;5;28;43;01mNone\u001b[39;49;00m\u001b[43m,\u001b[49m\u001b[43m \u001b[49m\u001b[38;5;28;43;01mNone\u001b[39;49;00m\u001b[43m,\u001b[49m\u001b[43m \u001b[49m\u001b[43m[\u001b[49m\u001b[43mobj\u001b[49m\u001b[43m]\u001b[49m\u001b[43m)\u001b[49m\u001b[43m,\u001b[49m\u001b[43m \u001b[49m\u001b[43mobj\u001b[49m\u001b[43m)\u001b[49m\n\u001b[0;32m    150\u001b[0m \u001b[38;5;28;01mexcept\u001b[39;00m (\u001b[38;5;167;01mImportError\u001b[39;00m, \u001b[38;5;167;01mAttributeError\u001b[39;00m):\n\u001b[0;32m    151\u001b[0m     \u001b[38;5;28;01mif\u001b[39;00m \u001b[38;5;129;01mnot\u001b[39;00m silent:\n",
      "\u001b[1;31mAttributeError\u001b[0m: module 'jinja2.ext' has no attribute 'with_'"
     ]
    }
   ],
   "source": [
    "import pixiedust"
   ]
  },
  {
   "cell_type": "code",
   "execution_count": 14,
   "id": "c1379fd8",
   "metadata": {
    "ExecuteTime": {
     "end_time": "2022-04-11T13:49:37.355170Z",
     "start_time": "2022-04-11T13:49:37.343186Z"
    }
   },
   "outputs": [
    {
     "name": "stderr",
     "output_type": "stream",
     "text": [
      "UsageError: Cell magic `%%pixie_debugger` not found.\n"
     ]
    }
   ],
   "source": [
    "%%pixie_debugger\n",
    "import random\n",
    "def find_max (values):\n",
    "    max = 0\n",
    "    for val in values:\n",
    "        if val > max:\n",
    "            max = val\n",
    "    return max\n",
    "find_max(random.sample(range(100), 10))"
   ]
  },
  {
   "cell_type": "code",
   "execution_count": 6,
   "id": "286ebaed",
   "metadata": {
    "ExecuteTime": {
     "end_time": "2022-03-21T14:32:51.158959Z",
     "start_time": "2022-03-21T14:32:51.122987Z"
    },
    "slideshow": {
     "slide_type": "notes"
    }
   },
   "outputs": [
    {
     "data": {
      "text/html": [
       "<div>\n",
       "<style scoped>\n",
       "    .dataframe tbody tr th:only-of-type {\n",
       "        vertical-align: middle;\n",
       "    }\n",
       "\n",
       "    .dataframe tbody tr th {\n",
       "        vertical-align: top;\n",
       "    }\n",
       "\n",
       "    .dataframe thead th {\n",
       "        text-align: right;\n",
       "    }\n",
       "</style>\n",
       "<table border=\"1\" class=\"dataframe\">\n",
       "  <thead>\n",
       "    <tr style=\"text-align: right;\">\n",
       "      <th></th>\n",
       "      <th>ID</th>\n",
       "      <th>Name</th>\n",
       "      <th>State</th>\n",
       "    </tr>\n",
       "  </thead>\n",
       "  <tbody>\n",
       "    <tr>\n",
       "      <th>0</th>\n",
       "      <td>1.0000</td>\n",
       "      <td>Florianópolis</td>\n",
       "      <td>SC</td>\n",
       "    </tr>\n",
       "    <tr>\n",
       "      <th>1</th>\n",
       "      <td>2.0000</td>\n",
       "      <td>Rio de Janeiro</td>\n",
       "      <td>RJ</td>\n",
       "    </tr>\n",
       "    <tr>\n",
       "      <th>2</th>\n",
       "      <td>3.0000</td>\n",
       "      <td>Porto Alegre</td>\n",
       "      <td>RS</td>\n",
       "    </tr>\n",
       "    <tr>\n",
       "      <th>3</th>\n",
       "      <td>4.0000</td>\n",
       "      <td>Curitiba</td>\n",
       "      <td>PR</td>\n",
       "    </tr>\n",
       "    <tr>\n",
       "      <th>4</th>\n",
       "      <td>7.0000</td>\n",
       "      <td>São Paulo</td>\n",
       "      <td>SP</td>\n",
       "    </tr>\n",
       "  </tbody>\n",
       "</table>\n",
       "</div>"
      ],
      "text/plain": [
       "      ID            Name State\n",
       "0 1.0000   Florianópolis    SC\n",
       "1 2.0000  Rio de Janeiro    RJ\n",
       "2 3.0000    Porto Alegre    RS\n",
       "3 4.0000        Curitiba    PR\n",
       "4 7.0000       São Paulo    SP"
      ]
     },
     "execution_count": 6,
     "metadata": {},
     "output_type": "execute_result"
    }
   ],
   "source": [
    "df_loja.head()"
   ]
  }
 ],
 "metadata": {
  "kernelspec": {
   "display_name": "Python 3 (ipykernel)",
   "language": "python",
   "name": "python3"
  },
  "language_info": {
   "codemirror_mode": {
    "name": "ipython",
    "version": 3
   },
   "file_extension": ".py",
   "mimetype": "text/x-python",
   "name": "python",
   "nbconvert_exporter": "python",
   "pygments_lexer": "ipython3",
   "version": "3.10.4"
  },
  "toc": {
   "base_numbering": 1,
   "nav_menu": {},
   "number_sections": true,
   "sideBar": true,
   "skip_h1_title": false,
   "title_cell": "Table of Contents",
   "title_sidebar": "Contents",
   "toc_cell": false,
   "toc_position": {},
   "toc_section_display": true,
   "toc_window_display": false
  },
  "varInspector": {
   "cols": {
    "lenName": 16,
    "lenType": 16,
    "lenVar": 40
   },
   "kernels_config": {
    "python": {
     "delete_cmd_postfix": "",
     "delete_cmd_prefix": "del ",
     "library": "var_list.py",
     "varRefreshCmd": "print(var_dic_list())"
    },
    "r": {
     "delete_cmd_postfix": ") ",
     "delete_cmd_prefix": "rm(",
     "library": "var_list.r",
     "varRefreshCmd": "cat(var_dic_list()) "
    }
   },
   "types_to_exclude": [
    "module",
    "function",
    "builtin_function_or_method",
    "instance",
    "_Feature"
   ],
   "window_display": false
  }
 },
 "nbformat": 4,
 "nbformat_minor": 5
}

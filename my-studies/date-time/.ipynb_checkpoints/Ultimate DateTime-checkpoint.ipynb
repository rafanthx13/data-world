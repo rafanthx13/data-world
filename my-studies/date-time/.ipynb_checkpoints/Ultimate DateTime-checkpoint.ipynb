{
 "cells": [
  {
   "cell_type": "markdown",
   "id": "aace193c",
   "metadata": {},
   "source": [
    "# Ultimate DateTime\n",
    "\n",
    "** aqui é apenas análise do tipo 'datetime'.\n",
    "\n",
    "Se você for trabalhar com `time-series` o correto é ter eses `date-time` como ´indice do dataframe.\n",
    "\n",
    "Este notembook nao trabalha com time-series, apenas relaciona ao que pode fazer com attr date-time se encontrar em seus problemas que nâo são de Ttime-series\n",
    "\n",
    "## Links\n",
    "\n",
    "+ [X] https://www.kaggle.com/code/nextbigwhat/feature-engineering-of-datetime-variables/notebook\n",
    "+ [X] https://www.kaggle.com/code/alexisbcook/parsing-dates/tutorial\n"
   ]
  },
  {
   "cell_type": "markdown",
   "id": "9db1008d",
   "metadata": {},
   "source": [
    "# Import Data"
   ]
  },
  {
   "cell_type": "code",
   "execution_count": 46,
   "id": "c460fc45",
   "metadata": {
    "ExecuteTime": {
     "end_time": "2022-04-15T20:46:08.837067Z",
     "start_time": "2022-04-15T20:46:05.199605Z"
    }
   },
   "outputs": [],
   "source": [
    "import pandas as pd\n",
    "# pd.set_option('max_columns', None)\n",
    "\n",
    "import numpy as np\n",
    "pd.set_option('display.max_columns', 1000)\n",
    "import seaborn as sns\n",
    "# set seed for reproducibility\n",
    "np.random.seed(0)"
   ]
  },
  {
   "cell_type": "code",
   "execution_count": 7,
   "id": "7fbf690b",
   "metadata": {
    "ExecuteTime": {
     "end_time": "2022-04-15T20:04:18.525888Z",
     "start_time": "2022-04-15T20:04:18.419387Z"
    }
   },
   "outputs": [
    {
     "data": {
      "text/html": [
       "<div>\n",
       "<style scoped>\n",
       "    .dataframe tbody tr th:only-of-type {\n",
       "        vertical-align: middle;\n",
       "    }\n",
       "\n",
       "    .dataframe tbody tr th {\n",
       "        vertical-align: top;\n",
       "    }\n",
       "\n",
       "    .dataframe thead th {\n",
       "        text-align: right;\n",
       "    }\n",
       "</style>\n",
       "<table border=\"1\" class=\"dataframe\">\n",
       "  <thead>\n",
       "    <tr style=\"text-align: right;\">\n",
       "      <th></th>\n",
       "      <th>customer_id</th>\n",
       "      <th>disbursed_amount</th>\n",
       "      <th>interest</th>\n",
       "      <th>market</th>\n",
       "      <th>employment</th>\n",
       "      <th>time_employed</th>\n",
       "      <th>householder</th>\n",
       "      <th>income</th>\n",
       "      <th>date_issued</th>\n",
       "      <th>target</th>\n",
       "      <th>loan_purpose</th>\n",
       "      <th>number_open_accounts</th>\n",
       "      <th>date_last_payment</th>\n",
       "      <th>number_credit_lines_12</th>\n",
       "    </tr>\n",
       "  </thead>\n",
       "  <tbody>\n",
       "    <tr>\n",
       "      <th>0</th>\n",
       "      <td>0</td>\n",
       "      <td>23201.5</td>\n",
       "      <td>15.484</td>\n",
       "      <td>C</td>\n",
       "      <td>Teacher</td>\n",
       "      <td>&lt;=5 years</td>\n",
       "      <td>RENT</td>\n",
       "      <td>84600.0</td>\n",
       "      <td>2013-06-11</td>\n",
       "      <td>0</td>\n",
       "      <td>Debt consolidation</td>\n",
       "      <td>4.0</td>\n",
       "      <td>2016-01-14</td>\n",
       "      <td>NaN</td>\n",
       "    </tr>\n",
       "  </tbody>\n",
       "</table>\n",
       "</div>"
      ],
      "text/plain": [
       "   customer_id  disbursed_amount  interest market employment time_employed  \\\n",
       "0            0           23201.5    15.484      C    Teacher     <=5 years   \n",
       "\n",
       "  householder   income date_issued  target        loan_purpose  \\\n",
       "0        RENT  84600.0  2013-06-11       0  Debt consolidation   \n",
       "\n",
       "   number_open_accounts date_last_payment  number_credit_lines_12  \n",
       "0                   4.0        2016-01-14                     NaN  "
      ]
     },
     "metadata": {},
     "output_type": "display_data"
    },
    {
     "name": "stdout",
     "output_type": "stream",
     "text": [
      "<class 'pandas.core.frame.DataFrame'>\n",
      "RangeIndex: 10000 entries, 0 to 9999\n",
      "Data columns (total 14 columns):\n",
      " #   Column                  Non-Null Count  Dtype  \n",
      "---  ------                  --------------  -----  \n",
      " 0   customer_id             10000 non-null  int64  \n",
      " 1   disbursed_amount        10000 non-null  float64\n",
      " 2   interest                10000 non-null  float64\n",
      " 3   market                  10000 non-null  object \n",
      " 4   employment              9389 non-null   object \n",
      " 5   time_employed           9471 non-null   object \n",
      " 6   householder             10000 non-null  object \n",
      " 7   income                  10000 non-null  float64\n",
      " 8   date_issued             10000 non-null  object \n",
      " 9   target                  10000 non-null  int64  \n",
      " 10  loan_purpose            10000 non-null  object \n",
      " 11  number_open_accounts    10000 non-null  float64\n",
      " 12  date_last_payment       10000 non-null  object \n",
      " 13  number_credit_lines_12  238 non-null    float64\n",
      "dtypes: float64(5), int64(2), object(7)\n",
      "memory usage: 1.1+ MB\n"
     ]
    }
   ],
   "source": [
    "df = pd.read_csv(\"./datasets/loan.csv\")\n",
    "display(df.head(1))\n",
    "df.info()"
   ]
  },
  {
   "cell_type": "code",
   "execution_count": null,
   "id": "39c45afb",
   "metadata": {},
   "outputs": [],
   "source": []
  },
  {
   "cell_type": "markdown",
   "id": "e76954e3",
   "metadata": {},
   "source": [
    "# Snippets"
   ]
  },
  {
   "cell_type": "code",
   "execution_count": null,
   "id": "56402b97",
   "metadata": {},
   "outputs": [],
   "source": []
  },
  {
   "cell_type": "markdown",
   "id": "084568f8",
   "metadata": {},
   "source": [
    "# Convert String to Date\n",
    "\n",
    "Quando você não passa `format`, consisdera como `infer_datetime_format=True`\n",
    "````\n",
    "1/17/07 has the format \"%m/%d/%y\"\n",
    "17-1-2007 has the format \"%d-%m-%Y\"\n",
    "\n",
    "landslides['date_parsed'] = pd.to_datetime(landslides['date'], format=\"%m/%d/%y\")\n",
    "\n",
    "````"
   ]
  },
  {
   "cell_type": "code",
   "execution_count": 16,
   "id": "bc9ff1a3",
   "metadata": {
    "ExecuteTime": {
     "end_time": "2022-04-15T20:22:54.681554Z",
     "start_time": "2022-04-15T20:22:54.613332Z"
    },
    "scrolled": false
   },
   "outputs": [
    {
     "data": {
      "text/html": [
       "<div>\n",
       "<style scoped>\n",
       "    .dataframe tbody tr th:only-of-type {\n",
       "        vertical-align: middle;\n",
       "    }\n",
       "\n",
       "    .dataframe tbody tr th {\n",
       "        vertical-align: top;\n",
       "    }\n",
       "\n",
       "    .dataframe thead th {\n",
       "        text-align: right;\n",
       "    }\n",
       "</style>\n",
       "<table border=\"1\" class=\"dataframe\">\n",
       "  <thead>\n",
       "    <tr style=\"text-align: right;\">\n",
       "      <th></th>\n",
       "      <th>customer_id</th>\n",
       "      <th>disbursed_amount</th>\n",
       "      <th>interest</th>\n",
       "      <th>market</th>\n",
       "      <th>employment</th>\n",
       "      <th>time_employed</th>\n",
       "      <th>householder</th>\n",
       "      <th>income</th>\n",
       "      <th>date_issued</th>\n",
       "      <th>target</th>\n",
       "      <th>loan_purpose</th>\n",
       "      <th>number_open_accounts</th>\n",
       "      <th>date_last_payment</th>\n",
       "      <th>number_credit_lines_12</th>\n",
       "      <th>date_issued:year</th>\n",
       "      <th>date_issued:month</th>\n",
       "      <th>date_issued:day</th>\n",
       "      <th>date_issued:day_of_week</th>\n",
       "      <th>date_issued:day_of_year</th>\n",
       "      <th>date_issued:hour</th>\n",
       "      <th>date_issued:day_part</th>\n",
       "    </tr>\n",
       "  </thead>\n",
       "  <tbody>\n",
       "    <tr>\n",
       "      <th>0</th>\n",
       "      <td>0</td>\n",
       "      <td>23201.5</td>\n",
       "      <td>15.484</td>\n",
       "      <td>C</td>\n",
       "      <td>Teacher</td>\n",
       "      <td>&lt;=5 years</td>\n",
       "      <td>RENT</td>\n",
       "      <td>84600.0</td>\n",
       "      <td>2013-06-11</td>\n",
       "      <td>0</td>\n",
       "      <td>Debt consolidation</td>\n",
       "      <td>4.0</td>\n",
       "      <td>2016-01-14</td>\n",
       "      <td>NaN</td>\n",
       "      <td>2013</td>\n",
       "      <td>6</td>\n",
       "      <td>11</td>\n",
       "      <td>1</td>\n",
       "      <td>162</td>\n",
       "      <td>0</td>\n",
       "      <td>None</td>\n",
       "    </tr>\n",
       "  </tbody>\n",
       "</table>\n",
       "</div>"
      ],
      "text/plain": [
       "   customer_id  disbursed_amount  interest market employment time_employed  \\\n",
       "0            0           23201.5    15.484      C    Teacher     <=5 years   \n",
       "\n",
       "  householder   income date_issued  target        loan_purpose  \\\n",
       "0        RENT  84600.0  2013-06-11       0  Debt consolidation   \n",
       "\n",
       "   number_open_accounts date_last_payment  number_credit_lines_12  \\\n",
       "0                   4.0        2016-01-14                     NaN   \n",
       "\n",
       "   date_issued:year  date_issued:month  date_issued:day  \\\n",
       "0              2013                  6               11   \n",
       "\n",
       "   date_issued:day_of_week  date_issued:day_of_year  date_issued:hour  \\\n",
       "0                        1                      162                 0   \n",
       "\n",
       "  date_issued:day_part  \n",
       "0                 None  "
      ]
     },
     "metadata": {},
     "output_type": "display_data"
    },
    {
     "data": {
      "text/plain": [
       "0   2013-06-11\n",
       "Name: date_issued, dtype: datetime64[ns]"
      ]
     },
     "metadata": {},
     "output_type": "display_data"
    }
   ],
   "source": [
    "df['date_issued'] = pd.to_datetime(df['date_issued'])\n",
    "df['date_last_payment'] = pd.to_datetime(df['date_last_payment'])\n",
    "display(df.head(1))\n",
    "display(df['date_issued'].head(1))"
   ]
  },
  {
   "cell_type": "markdown",
   "id": "bdb3be9f",
   "metadata": {
    "ExecuteTime": {
     "end_time": "2022-04-15T20:19:56.475565Z",
     "start_time": "2022-04-15T20:19:56.459585Z"
    }
   },
   "source": [
    "Outro caso"
   ]
  },
  {
   "cell_type": "code",
   "execution_count": 13,
   "id": "9c5e7a9a",
   "metadata": {
    "ExecuteTime": {
     "end_time": "2022-04-15T20:19:49.243245Z",
     "start_time": "2022-04-15T20:19:49.231262Z"
    }
   },
   "outputs": [
    {
     "name": "stdout",
     "output_type": "stream",
     "text": [
      "2021-12-31 15:37:00\n"
     ]
    }
   ],
   "source": [
    "from datetime import datetime\n",
    "date_string = '2021-12-31 15:37'\n",
    "datetime = datetime.strptime(date_string, '%Y-%m-%d %H:%M')\n",
    "print(datetime)\n",
    "# Returns: 2021-12-31 15:37:00"
   ]
  },
  {
   "cell_type": "code",
   "execution_count": 34,
   "id": "992cab6d",
   "metadata": {
    "ExecuteTime": {
     "end_time": "2022-04-15T20:37:22.894251Z",
     "start_time": "2022-04-15T20:37:22.883260Z"
    }
   },
   "outputs": [
    {
     "data": {
      "text/plain": [
       "datetime.datetime(2022, 4, 15, 17, 37, 22, 886257)"
      ]
     },
     "execution_count": 34,
     "metadata": {},
     "output_type": "execute_result"
    }
   ],
   "source": [
    "# Obter hoje\n",
    "datetime.today()"
   ]
  },
  {
   "cell_type": "markdown",
   "id": "07b3fc0f",
   "metadata": {},
   "source": [
    "# Access Data Proprietis\n",
    "\n",
    "https://datagy.io/pandas-extract-date-from-datetime/\n",
    "\n",
    "https://datagy.io/python-string-to-date/\n",
    "\n",
    "**quarter significa trimestre**\n",
    "\n",
    "| Pandas dt accessor | Used to access                                               |\n",
    "| :----------------- | :----------------------------------------------------------- |\n",
    "| `.week`            | The week number                                              |\n",
    "| `.year`            | The year value, returned as an integer                       |\n",
    "| `.date`            | The date without time values                                 |\n",
    "| `.day`             | The day of the month, returned as a value from 1 through 31  |\n",
    "| `.month`           | The month of the year, returned as a value from 1 through 12 |\n",
    "| `.weekday`         | The day of the week returned as a value where Monday=0 and Sunday=6 |\n",
    "| `.day_name()`      | The name of the weekday returned as a string                 |\n",
    "|.month| will return the month as a number from 1 through 12\n",
    "|.month_name() | will return the locale’s named month, allowing you to pass in a different locale\n",
    "|.month_name().str[:3] | will return the abbreviated version of the month’s name\n",
    "| .weekday | returns the weekday number starting at 0 for Mondays\n",
    "| day_name() | returns the name of the day based a given locale\n",
    "| .day | returns the number of days into the month the day is\n",
    "| .dayofyear | returns the number of days into the year the day is"
   ]
  },
  {
   "cell_type": "code",
   "execution_count": 10,
   "id": "f57f37db",
   "metadata": {
    "ExecuteTime": {
     "end_time": "2022-04-15T20:11:12.923522Z",
     "start_time": "2022-04-15T20:11:12.871562Z"
    }
   },
   "outputs": [
    {
     "data": {
      "text/html": [
       "<div>\n",
       "<style scoped>\n",
       "    .dataframe tbody tr th:only-of-type {\n",
       "        vertical-align: middle;\n",
       "    }\n",
       "\n",
       "    .dataframe tbody tr th {\n",
       "        vertical-align: top;\n",
       "    }\n",
       "\n",
       "    .dataframe thead th {\n",
       "        text-align: right;\n",
       "    }\n",
       "</style>\n",
       "<table border=\"1\" class=\"dataframe\">\n",
       "  <thead>\n",
       "    <tr style=\"text-align: right;\">\n",
       "      <th></th>\n",
       "      <th>date_issued</th>\n",
       "      <th>date_issued:year</th>\n",
       "      <th>date_issued:month</th>\n",
       "      <th>date_issued:day</th>\n",
       "      <th>date_issued:day_of_week</th>\n",
       "      <th>date_issued:day_of_year</th>\n",
       "    </tr>\n",
       "  </thead>\n",
       "  <tbody>\n",
       "    <tr>\n",
       "      <th>0</th>\n",
       "      <td>2013-06-11</td>\n",
       "      <td>2013</td>\n",
       "      <td>6</td>\n",
       "      <td>11</td>\n",
       "      <td>1</td>\n",
       "      <td>162</td>\n",
       "    </tr>\n",
       "    <tr>\n",
       "      <th>1</th>\n",
       "      <td>2014-05-08</td>\n",
       "      <td>2014</td>\n",
       "      <td>5</td>\n",
       "      <td>8</td>\n",
       "      <td>3</td>\n",
       "      <td>128</td>\n",
       "    </tr>\n",
       "    <tr>\n",
       "      <th>2</th>\n",
       "      <td>2013-10-26</td>\n",
       "      <td>2013</td>\n",
       "      <td>10</td>\n",
       "      <td>26</td>\n",
       "      <td>5</td>\n",
       "      <td>299</td>\n",
       "    </tr>\n",
       "    <tr>\n",
       "      <th>3</th>\n",
       "      <td>2015-08-20</td>\n",
       "      <td>2015</td>\n",
       "      <td>8</td>\n",
       "      <td>20</td>\n",
       "      <td>3</td>\n",
       "      <td>232</td>\n",
       "    </tr>\n",
       "    <tr>\n",
       "      <th>4</th>\n",
       "      <td>2014-07-22</td>\n",
       "      <td>2014</td>\n",
       "      <td>7</td>\n",
       "      <td>22</td>\n",
       "      <td>1</td>\n",
       "      <td>203</td>\n",
       "    </tr>\n",
       "  </tbody>\n",
       "</table>\n",
       "</div>"
      ],
      "text/plain": [
       "  date_issued  date_issued:year  date_issued:month  date_issued:day  \\\n",
       "0  2013-06-11              2013                  6               11   \n",
       "1  2014-05-08              2014                  5                8   \n",
       "2  2013-10-26              2013                 10               26   \n",
       "3  2015-08-20              2015                  8               20   \n",
       "4  2014-07-22              2014                  7               22   \n",
       "\n",
       "   date_issued:day_of_week  date_issued:day_of_year  \n",
       "0                        1                      162  \n",
       "1                        3                      128  \n",
       "2                        5                      299  \n",
       "3                        3                      232  \n",
       "4                        1                      203  "
      ]
     },
     "execution_count": 10,
     "metadata": {},
     "output_type": "execute_result"
    }
   ],
   "source": [
    "df['date_issued:year'] = df['date_issued'].dt.year\n",
    "df['date_issued:month'] = df['date_issued'].dt.month\n",
    "df['date_issued:day'] = df['date_issued'].dt.day\n",
    "df['date_issued:day_of_week'] = df['date_issued'].dt.day_of_week\n",
    "df['date_issued:day_of_year'] = df['date_issued'].dt.day_of_year\n",
    "# show\n",
    "df[['date_issued','date_issued:year','date_issued:month',\n",
    "     'date_issued:day','date_issued:day_of_week',\n",
    "     'date_issued:day_of_year'\n",
    "]].head()"
   ]
  },
  {
   "cell_type": "markdown",
   "id": "8c608a0d",
   "metadata": {},
   "source": [
    "# Feature Engineering datetime ideias\n",
    "\n",
    "https://www.kaggle.com/code/nextbigwhat/feature-engineering-of-datetime-variables/notebook"
   ]
  },
  {
   "cell_type": "markdown",
   "id": "8ff4c552",
   "metadata": {},
   "source": [
    "## Extract Datetime componetnes"
   ]
  },
  {
   "cell_type": "code",
   "execution_count": 43,
   "id": "059b0579",
   "metadata": {
    "ExecuteTime": {
     "end_time": "2022-04-15T20:40:39.193372Z",
     "start_time": "2022-04-15T20:40:39.162399Z"
    }
   },
   "outputs": [
    {
     "data": {
      "text/html": [
       "<div>\n",
       "<style scoped>\n",
       "    .dataframe tbody tr th:only-of-type {\n",
       "        vertical-align: middle;\n",
       "    }\n",
       "\n",
       "    .dataframe tbody tr th {\n",
       "        vertical-align: top;\n",
       "    }\n",
       "\n",
       "    .dataframe thead th {\n",
       "        text-align: right;\n",
       "    }\n",
       "</style>\n",
       "<table border=\"1\" class=\"dataframe\">\n",
       "  <thead>\n",
       "    <tr style=\"text-align: right;\">\n",
       "      <th></th>\n",
       "      <th>date_issued</th>\n",
       "      <th>date_issued:year</th>\n",
       "      <th>date_issued:month</th>\n",
       "      <th>date_issued:day</th>\n",
       "      <th>date_issued:day_of_week</th>\n",
       "      <th>date_issued:day_of_year</th>\n",
       "    </tr>\n",
       "  </thead>\n",
       "  <tbody>\n",
       "    <tr>\n",
       "      <th>0</th>\n",
       "      <td>2013-06-11</td>\n",
       "      <td>2013</td>\n",
       "      <td>6</td>\n",
       "      <td>11</td>\n",
       "      <td>1</td>\n",
       "      <td>162</td>\n",
       "    </tr>\n",
       "    <tr>\n",
       "      <th>1</th>\n",
       "      <td>2014-05-08</td>\n",
       "      <td>2014</td>\n",
       "      <td>5</td>\n",
       "      <td>8</td>\n",
       "      <td>3</td>\n",
       "      <td>128</td>\n",
       "    </tr>\n",
       "    <tr>\n",
       "      <th>2</th>\n",
       "      <td>2013-10-26</td>\n",
       "      <td>2013</td>\n",
       "      <td>10</td>\n",
       "      <td>26</td>\n",
       "      <td>5</td>\n",
       "      <td>299</td>\n",
       "    </tr>\n",
       "    <tr>\n",
       "      <th>3</th>\n",
       "      <td>2015-08-20</td>\n",
       "      <td>2015</td>\n",
       "      <td>8</td>\n",
       "      <td>20</td>\n",
       "      <td>3</td>\n",
       "      <td>232</td>\n",
       "    </tr>\n",
       "    <tr>\n",
       "      <th>4</th>\n",
       "      <td>2014-07-22</td>\n",
       "      <td>2014</td>\n",
       "      <td>7</td>\n",
       "      <td>22</td>\n",
       "      <td>1</td>\n",
       "      <td>203</td>\n",
       "    </tr>\n",
       "  </tbody>\n",
       "</table>\n",
       "</div>"
      ],
      "text/plain": [
       "  date_issued  date_issued:year  date_issued:month  date_issued:day  \\\n",
       "0  2013-06-11              2013                  6               11   \n",
       "1  2014-05-08              2014                  5                8   \n",
       "2  2013-10-26              2013                 10               26   \n",
       "3  2015-08-20              2015                  8               20   \n",
       "4  2014-07-22              2014                  7               22   \n",
       "\n",
       "   date_issued:day_of_week  date_issued:day_of_year  \n",
       "0                        1                      162  \n",
       "1                        3                      128  \n",
       "2                        5                      299  \n",
       "3                        3                      232  \n",
       "4                        1                      203  "
      ]
     },
     "execution_count": 43,
     "metadata": {},
     "output_type": "execute_result"
    }
   ],
   "source": [
    "df['date_issued:year'] = df['date_issued'].dt.year\n",
    "df['date_issued:month'] = df['date_issued'].dt.month\n",
    "df['date_issued:day'] = df['date_issued'].dt.day\n",
    "df['date_issued:day_of_week'] = df['date_issued'].dt.day_of_week\n",
    "df['date_issued:day_of_year'] = df['date_issued'].dt.day_of_year\n",
    "df[['date_issued','date_issued:year','date_issued:month','date_issued:day','date_issued:day_of_week','date_issued:day_of_year']].head()"
   ]
  },
  {
   "cell_type": "markdown",
   "id": "a80a0b77",
   "metadata": {
    "ExecuteTime": {
     "end_time": "2022-04-15T20:25:34.211032Z",
     "start_time": "2022-04-15T20:25:34.193045Z"
    }
   },
   "source": [
    "## Split hour in 8 categories: *dawn*, *night* .."
   ]
  },
  {
   "cell_type": "code",
   "execution_count": 25,
   "id": "ff1a97da",
   "metadata": {
    "ExecuteTime": {
     "end_time": "2022-04-15T20:26:05.735250Z",
     "start_time": "2022-04-15T20:26:05.687569Z"
    },
    "scrolled": true
   },
   "outputs": [
    {
     "data": {
      "text/html": [
       "<div>\n",
       "<style scoped>\n",
       "    .dataframe tbody tr th:only-of-type {\n",
       "        vertical-align: middle;\n",
       "    }\n",
       "\n",
       "    .dataframe tbody tr th {\n",
       "        vertical-align: top;\n",
       "    }\n",
       "\n",
       "    .dataframe thead th {\n",
       "        text-align: right;\n",
       "    }\n",
       "</style>\n",
       "<table border=\"1\" class=\"dataframe\">\n",
       "  <thead>\n",
       "    <tr style=\"text-align: right;\">\n",
       "      <th></th>\n",
       "      <th>date_issued</th>\n",
       "      <th>date_issued:hour</th>\n",
       "      <th>date_issued:day_part</th>\n",
       "    </tr>\n",
       "  </thead>\n",
       "  <tbody>\n",
       "    <tr>\n",
       "      <th>0</th>\n",
       "      <td>2013-06-11</td>\n",
       "      <td>0</td>\n",
       "      <td>none</td>\n",
       "    </tr>\n",
       "    <tr>\n",
       "      <th>1</th>\n",
       "      <td>2014-05-08</td>\n",
       "      <td>0</td>\n",
       "      <td>none</td>\n",
       "    </tr>\n",
       "    <tr>\n",
       "      <th>2</th>\n",
       "      <td>2013-10-26</td>\n",
       "      <td>0</td>\n",
       "      <td>none</td>\n",
       "    </tr>\n",
       "    <tr>\n",
       "      <th>3</th>\n",
       "      <td>2015-08-20</td>\n",
       "      <td>0</td>\n",
       "      <td>none</td>\n",
       "    </tr>\n",
       "    <tr>\n",
       "      <th>4</th>\n",
       "      <td>2014-07-22</td>\n",
       "      <td>0</td>\n",
       "      <td>none</td>\n",
       "    </tr>\n",
       "  </tbody>\n",
       "</table>\n",
       "</div>"
      ],
      "text/plain": [
       "  date_issued  date_issued:hour date_issued:day_part\n",
       "0  2013-06-11                 0                 none\n",
       "1  2014-05-08                 0                 none\n",
       "2  2013-10-26                 0                 none\n",
       "3  2015-08-20                 0                 none\n",
       "4  2014-07-22                 0                 none"
      ]
     },
     "execution_count": 25,
     "metadata": {},
     "output_type": "execute_result"
    }
   ],
   "source": [
    "def day_part(hour):\n",
    "    if hour in [4,5]:\n",
    "        return \"dawn\"\n",
    "    elif hour in [6,7]:\n",
    "        return \"early morning\"\n",
    "    elif hour in [8,9,10]:\n",
    "        return \"late morning\"\n",
    "    elif hour in [11,12,13]:\n",
    "        return \"noon\"\n",
    "    elif hour in [14,15,16]:\n",
    "        return \"afternoon\"\n",
    "    elif hour in [17, 18,19]:\n",
    "        return \"evening\"\n",
    "    elif hour in [20, 21, 22]:\n",
    "        return \"night\"\n",
    "    elif hour in [23,24,1,2,3]:\n",
    "        return \"midnight\"\n",
    "    else:\n",
    "        return \"none\"\n",
    "    \n",
    "    \n",
    "# utilize it along with apply method\n",
    "df['date_issued:hour'] = df['date_issued'].dt.hour\n",
    "df['date_issued:day_part'] = df['date_issued:hour'].apply(day_part)\n",
    "df[['date_issued', 'date_issued:hour', 'date_issued:day_part']].head()\n",
    "\n",
    "# in this case, cuz dont have hours (onlyw day/mont/year) show nothing"
   ]
  },
  {
   "cell_type": "markdown",
   "id": "689a96c8",
   "metadata": {},
   "source": [
    "## Create Boolean Flags start and end"
   ]
  },
  {
   "cell_type": "code",
   "execution_count": 26,
   "id": "9ec230de",
   "metadata": {
    "ExecuteTime": {
     "end_time": "2022-04-15T20:26:50.988119Z",
     "start_time": "2022-04-15T20:26:50.960143Z"
    }
   },
   "outputs": [
    {
     "data": {
      "text/html": [
       "<div>\n",
       "<style scoped>\n",
       "    .dataframe tbody tr th:only-of-type {\n",
       "        vertical-align: middle;\n",
       "    }\n",
       "\n",
       "    .dataframe tbody tr th {\n",
       "        vertical-align: top;\n",
       "    }\n",
       "\n",
       "    .dataframe thead th {\n",
       "        text-align: right;\n",
       "    }\n",
       "</style>\n",
       "<table border=\"1\" class=\"dataframe\">\n",
       "  <thead>\n",
       "    <tr style=\"text-align: right;\">\n",
       "      <th></th>\n",
       "      <th>date_issued</th>\n",
       "      <th>date_issued:is_year_start</th>\n",
       "      <th>date_issued:is_quarter_start</th>\n",
       "      <th>date_issued:is_month_start</th>\n",
       "      <th>date_issued:is_month_end</th>\n",
       "    </tr>\n",
       "  </thead>\n",
       "  <tbody>\n",
       "    <tr>\n",
       "      <th>0</th>\n",
       "      <td>2013-06-11</td>\n",
       "      <td>False</td>\n",
       "      <td>False</td>\n",
       "      <td>False</td>\n",
       "      <td>False</td>\n",
       "    </tr>\n",
       "    <tr>\n",
       "      <th>1</th>\n",
       "      <td>2014-05-08</td>\n",
       "      <td>False</td>\n",
       "      <td>False</td>\n",
       "      <td>False</td>\n",
       "      <td>False</td>\n",
       "    </tr>\n",
       "    <tr>\n",
       "      <th>2</th>\n",
       "      <td>2013-10-26</td>\n",
       "      <td>False</td>\n",
       "      <td>False</td>\n",
       "      <td>False</td>\n",
       "      <td>False</td>\n",
       "    </tr>\n",
       "    <tr>\n",
       "      <th>3</th>\n",
       "      <td>2015-08-20</td>\n",
       "      <td>False</td>\n",
       "      <td>False</td>\n",
       "      <td>False</td>\n",
       "      <td>False</td>\n",
       "    </tr>\n",
       "    <tr>\n",
       "      <th>4</th>\n",
       "      <td>2014-07-22</td>\n",
       "      <td>False</td>\n",
       "      <td>False</td>\n",
       "      <td>False</td>\n",
       "      <td>False</td>\n",
       "    </tr>\n",
       "  </tbody>\n",
       "</table>\n",
       "</div>"
      ],
      "text/plain": [
       "  date_issued  date_issued:is_year_start  date_issued:is_quarter_start  \\\n",
       "0  2013-06-11                      False                         False   \n",
       "1  2014-05-08                      False                         False   \n",
       "2  2013-10-26                      False                         False   \n",
       "3  2015-08-20                      False                         False   \n",
       "4  2014-07-22                      False                         False   \n",
       "\n",
       "   date_issued:is_month_start  date_issued:is_month_end  \n",
       "0                       False                     False  \n",
       "1                       False                     False  \n",
       "2                       False                     False  \n",
       "3                       False                     False  \n",
       "4                       False                     False  "
      ]
     },
     "execution_count": 26,
     "metadata": {},
     "output_type": "execute_result"
    }
   ],
   "source": [
    "df['date_issued:is_year_start'] = df['date_issued'].dt.is_year_start\n",
    "df['date_issued:is_quarter_start'] = df['date_issued'].dt.is_quarter_start\n",
    "df['date_issued:is_month_start'] = df['date_issued'].dt.is_month_start\n",
    "df['date_issued:is_month_end'] = df['date_issued'].dt.is_month_end\n",
    "df[['date_issued','date_issued:is_year_start',\n",
    "    'date_issued:is_quarter_start','date_issued:is_month_start',\n",
    "    'date_issued:is_month_end'\n",
    "]].head()"
   ]
  },
  {
   "cell_type": "markdown",
   "id": "4efdf74f",
   "metadata": {
    "ExecuteTime": {
     "end_time": "2022-04-15T20:30:16.964675Z",
     "start_time": "2022-04-15T20:30:16.958686Z"
    }
   },
   "source": [
    "## 4: Create Weekend Flag"
   ]
  },
  {
   "cell_type": "code",
   "execution_count": 44,
   "id": "14840dca",
   "metadata": {
    "ExecuteTime": {
     "end_time": "2022-04-15T20:41:06.175747Z",
     "start_time": "2022-04-15T20:41:06.145773Z"
    }
   },
   "outputs": [
    {
     "data": {
      "text/html": [
       "<div>\n",
       "<style scoped>\n",
       "    .dataframe tbody tr th:only-of-type {\n",
       "        vertical-align: middle;\n",
       "    }\n",
       "\n",
       "    .dataframe tbody tr th {\n",
       "        vertical-align: top;\n",
       "    }\n",
       "\n",
       "    .dataframe thead th {\n",
       "        text-align: right;\n",
       "    }\n",
       "</style>\n",
       "<table border=\"1\" class=\"dataframe\">\n",
       "  <thead>\n",
       "    <tr style=\"text-align: right;\">\n",
       "      <th></th>\n",
       "      <th>date_issued</th>\n",
       "      <th>date_issued:day_of_week</th>\n",
       "      <th>date_issued:is_weekend</th>\n",
       "    </tr>\n",
       "  </thead>\n",
       "  <tbody>\n",
       "    <tr>\n",
       "      <th>0</th>\n",
       "      <td>2013-06-11</td>\n",
       "      <td>1</td>\n",
       "      <td>0</td>\n",
       "    </tr>\n",
       "    <tr>\n",
       "      <th>1</th>\n",
       "      <td>2014-05-08</td>\n",
       "      <td>3</td>\n",
       "      <td>0</td>\n",
       "    </tr>\n",
       "    <tr>\n",
       "      <th>2</th>\n",
       "      <td>2013-10-26</td>\n",
       "      <td>5</td>\n",
       "      <td>1</td>\n",
       "    </tr>\n",
       "    <tr>\n",
       "      <th>3</th>\n",
       "      <td>2015-08-20</td>\n",
       "      <td>3</td>\n",
       "      <td>0</td>\n",
       "    </tr>\n",
       "    <tr>\n",
       "      <th>4</th>\n",
       "      <td>2014-07-22</td>\n",
       "      <td>1</td>\n",
       "      <td>0</td>\n",
       "    </tr>\n",
       "  </tbody>\n",
       "</table>\n",
       "</div>"
      ],
      "text/plain": [
       "  date_issued  date_issued:day_of_week  date_issued:is_weekend\n",
       "0  2013-06-11                        1                       0\n",
       "1  2014-05-08                        3                       0\n",
       "2  2013-10-26                        5                       1\n",
       "3  2015-08-20                        3                       0\n",
       "4  2014-07-22                        1                       0"
      ]
     },
     "execution_count": 44,
     "metadata": {},
     "output_type": "execute_result"
    }
   ],
   "source": [
    "df['date_issued:is_weekend'] = np.where(df['date_issued:day_of_week'].isin([5,6]), 1,0)\n",
    "df[['date_issued','date_issued:day_of_week','date_issued:is_weekend']].head()"
   ]
  },
  {
   "cell_type": "markdown",
   "id": "168548e3",
   "metadata": {},
   "source": [
    "## Fast_ml for quick feature engieering ALL FEATURES\n",
    "\n",
    "De um date time cria todas as possibilidasdsa\n",
    "\n",
    "````\n",
    " 'date_issued:year',\n",
    " 'date_issued:month',\n",
    " 'date_issued:day',\n",
    " 'date_issued:day_of_week',\n",
    " 'date_issued:day_of_year',\n",
    " 'date_issued:hour',\n",
    " 'date_issued:day_part',\n",
    " 'date_issued:is_year_start',\n",
    " 'date_issued:is_quarter_start',\n",
    " 'date_issued:is_month_start',\n",
    " 'date_issued:is_month_end',\n",
    " 'date_issued:quarter',\n",
    " 'date_issued:weekofyear',\n",
    " 'date_issued:is_quarter_end',\n",
    " 'date_issued:is_year_end',\n",
    " 'date_issued:time',\n",
    " 'date_issued:minute',\n",
    " 'date_issued:second',\n",
    " 'date_issued:is_weekend']\n",
    "````"
   ]
  },
  {
   "cell_type": "code",
   "execution_count": 28,
   "id": "d47a4076",
   "metadata": {
    "ExecuteTime": {
     "end_time": "2022-04-15T20:31:51.039104Z",
     "start_time": "2022-04-15T20:31:46.133987Z"
    }
   },
   "outputs": [
    {
     "name": "stdout",
     "output_type": "stream",
     "text": [
      "Collecting fast_ml\n",
      "  Downloading fast_ml-3.68-py3-none-any.whl (42 kB)\n",
      "     -------------------------------------- 42.1/42.1 KB 994.6 kB/s eta 0:00:00\n",
      "Installing collected packages: fast_ml\n",
      "Successfully installed fast_ml-3.68\n"
     ]
    }
   ],
   "source": [
    "!pip install fast_ml --upgrade"
   ]
  },
  {
   "cell_type": "code",
   "execution_count": 29,
   "id": "7173915a",
   "metadata": {
    "ExecuteTime": {
     "end_time": "2022-04-15T20:31:56.164935Z",
     "start_time": "2022-04-15T20:31:56.117966Z"
    }
   },
   "outputs": [],
   "source": [
    "df_fast_ml = pd.read_csv(\"./datasets/loan.csv\")"
   ]
  },
  {
   "cell_type": "code",
   "execution_count": 35,
   "id": "ac0ebbb7",
   "metadata": {
    "ExecuteTime": {
     "end_time": "2022-04-15T20:37:55.029863Z",
     "start_time": "2022-04-15T20:37:55.010869Z"
    },
    "scrolled": true
   },
   "outputs": [
    {
     "name": "stdout",
     "output_type": "stream",
     "text": [
      "['customer_id', 'disbursed_amount', 'interest', 'market', 'employment', 'time_employed', 'householder', 'income', 'date_issued', 'target', 'loan_purpose', 'number_open_accounts', 'date_last_payment', 'number_credit_lines_12', 'date_issued:year', 'date_issued:month', 'date_issued:day', 'date_issued:day_of_week', 'date_issued:day_of_year', 'date_issued:hour', 'date_issued:day_part', 'date_issued:is_year_start', 'date_issued:is_quarter_start', 'date_issued:is_month_start', 'date_issued:is_month_end', 'date_issued:quarter', 'date_issued:weekofyear', 'date_issued:is_quarter_end', 'date_issued:is_year_end', 'date_issued:time', 'date_issued:minute', 'date_issued:second', 'date_issued:is_weekend']\n"
     ]
    }
   ],
   "source": [
    "print(list(df_fast_ml.columns))"
   ]
  },
  {
   "cell_type": "code",
   "execution_count": 38,
   "id": "9e074847",
   "metadata": {
    "ExecuteTime": {
     "end_time": "2022-04-15T20:38:28.896557Z",
     "start_time": "2022-04-15T20:38:28.890568Z"
    }
   },
   "outputs": [
    {
     "data": {
      "text/plain": [
       "25"
      ]
     },
     "execution_count": 38,
     "metadata": {},
     "output_type": "execute_result"
    }
   ],
   "source": [
    "len(df.columns)"
   ]
  },
  {
   "cell_type": "markdown",
   "id": "ac91a02f",
   "metadata": {},
   "source": [
    "Executando apra a variável `date_issued`"
   ]
  },
  {
   "cell_type": "code",
   "execution_count": 42,
   "id": "0e27a490",
   "metadata": {
    "ExecuteTime": {
     "end_time": "2022-04-15T20:39:03.270636Z",
     "start_time": "2022-04-15T20:39:03.156708Z"
    }
   },
   "outputs": [
    {
     "name": "stderr",
     "output_type": "stream",
     "text": [
      "C:\\Python310\\lib\\site-packages\\fast_ml\\feature_engineering.py:382: FutureWarning: Series.dt.weekofyear and Series.dt.week have been deprecated. Please use Series.dt.isocalendar().week instead.\n",
      "  df[pfx+f] = getattr(df[var].dt, f)\n"
     ]
    },
    {
     "data": {
      "text/html": [
       "<div>\n",
       "<style scoped>\n",
       "    .dataframe tbody tr th:only-of-type {\n",
       "        vertical-align: middle;\n",
       "    }\n",
       "\n",
       "    .dataframe tbody tr th {\n",
       "        vertical-align: top;\n",
       "    }\n",
       "\n",
       "    .dataframe thead th {\n",
       "        text-align: right;\n",
       "    }\n",
       "</style>\n",
       "<table border=\"1\" class=\"dataframe\">\n",
       "  <thead>\n",
       "    <tr style=\"text-align: right;\">\n",
       "      <th></th>\n",
       "      <th>customer_id</th>\n",
       "      <th>disbursed_amount</th>\n",
       "      <th>interest</th>\n",
       "      <th>market</th>\n",
       "      <th>employment</th>\n",
       "      <th>time_employed</th>\n",
       "      <th>householder</th>\n",
       "      <th>income</th>\n",
       "      <th>date_issued</th>\n",
       "      <th>target</th>\n",
       "      <th>loan_purpose</th>\n",
       "      <th>number_open_accounts</th>\n",
       "      <th>date_last_payment</th>\n",
       "      <th>number_credit_lines_12</th>\n",
       "      <th>date_issued:year</th>\n",
       "      <th>date_issued:month</th>\n",
       "      <th>date_issued:day</th>\n",
       "      <th>date_issued:day_of_week</th>\n",
       "      <th>date_issued:day_of_year</th>\n",
       "      <th>date_issued:hour</th>\n",
       "      <th>date_issued:day_part</th>\n",
       "      <th>date_issued:is_year_start</th>\n",
       "      <th>date_issued:is_quarter_start</th>\n",
       "      <th>date_issued:is_month_start</th>\n",
       "      <th>date_issued:is_month_end</th>\n",
       "      <th>date_issued:quarter</th>\n",
       "      <th>date_issued:weekofyear</th>\n",
       "      <th>date_issued:is_quarter_end</th>\n",
       "      <th>date_issued:is_year_end</th>\n",
       "      <th>date_issued:time</th>\n",
       "      <th>date_issued:minute</th>\n",
       "      <th>date_issued:second</th>\n",
       "      <th>date_issued:is_weekend</th>\n",
       "    </tr>\n",
       "  </thead>\n",
       "  <tbody>\n",
       "    <tr>\n",
       "      <th>0</th>\n",
       "      <td>0</td>\n",
       "      <td>23201.5</td>\n",
       "      <td>15.484</td>\n",
       "      <td>C</td>\n",
       "      <td>Teacher</td>\n",
       "      <td>&lt;=5 years</td>\n",
       "      <td>RENT</td>\n",
       "      <td>84600.0</td>\n",
       "      <td>2013-06-11</td>\n",
       "      <td>0</td>\n",
       "      <td>Debt consolidation</td>\n",
       "      <td>4.0</td>\n",
       "      <td>2016-01-14</td>\n",
       "      <td>NaN</td>\n",
       "      <td>2013</td>\n",
       "      <td>6</td>\n",
       "      <td>11</td>\n",
       "      <td>1</td>\n",
       "      <td>162</td>\n",
       "      <td>0</td>\n",
       "      <td>None</td>\n",
       "      <td>False</td>\n",
       "      <td>False</td>\n",
       "      <td>False</td>\n",
       "      <td>False</td>\n",
       "      <td>2</td>\n",
       "      <td>24</td>\n",
       "      <td>False</td>\n",
       "      <td>False</td>\n",
       "      <td>00:00:00</td>\n",
       "      <td>0</td>\n",
       "      <td>0</td>\n",
       "      <td>0</td>\n",
       "    </tr>\n",
       "  </tbody>\n",
       "</table>\n",
       "</div>"
      ],
      "text/plain": [
       "   customer_id  disbursed_amount  interest market employment time_employed  \\\n",
       "0            0           23201.5    15.484      C    Teacher     <=5 years   \n",
       "\n",
       "  householder   income date_issued  target        loan_purpose  \\\n",
       "0        RENT  84600.0  2013-06-11       0  Debt consolidation   \n",
       "\n",
       "   number_open_accounts date_last_payment  number_credit_lines_12  \\\n",
       "0                   4.0        2016-01-14                     NaN   \n",
       "\n",
       "   date_issued:year  date_issued:month  date_issued:day  \\\n",
       "0              2013                  6               11   \n",
       "\n",
       "   date_issued:day_of_week  date_issued:day_of_year  date_issued:hour  \\\n",
       "0                        1                      162                 0   \n",
       "\n",
       "  date_issued:day_part  date_issued:is_year_start  \\\n",
       "0                 None                      False   \n",
       "\n",
       "   date_issued:is_quarter_start  date_issued:is_month_start  \\\n",
       "0                         False                       False   \n",
       "\n",
       "   date_issued:is_month_end  date_issued:quarter  date_issued:weekofyear  \\\n",
       "0                     False                    2                      24   \n",
       "\n",
       "   date_issued:is_quarter_end  date_issued:is_year_end date_issued:time  \\\n",
       "0                       False                    False         00:00:00   \n",
       "\n",
       "   date_issued:minute  date_issued:second  date_issued:is_weekend  \n",
       "0                   0                   0                       0  "
      ]
     },
     "metadata": {},
     "output_type": "display_data"
    },
    {
     "name": "stdout",
     "output_type": "stream",
     "text": [
      "Novas Features criads pelo fast-ml\n",
      "\n",
      "['date_issued:quarter', 'date_issued:weekofyear', 'date_issued:is_quarter_end', 'date_issued:is_year_end', 'date_issued:time', 'date_issued:minute', 'date_issued:second', 'date_issued:is_weekend']\n"
     ]
    }
   ],
   "source": [
    "from fast_ml.feature_engineering import FeatureEngineering_DateTime\n",
    "\n",
    "dt_fe = FeatureEngineering_DateTime()\n",
    "\n",
    "dt_fe.fit(df_fast_ml, datetime_variables=['date_issued'], prefix = 'date_issued:')\n",
    "\n",
    "df_fast_ml = dt_fe.transform(df)\n",
    "display(df_fast_ml.head(1))\n",
    "print('Novas Features criads pelo fast-ml\\n')\n",
    "print(df_fast_ml.columns.to_list()[25:])"
   ]
  },
  {
   "cell_type": "markdown",
   "id": "12a843bb",
   "metadata": {},
   "source": [
    "# Plots Vizualizations"
   ]
  },
  {
   "cell_type": "markdown",
   "id": "82f58abb",
   "metadata": {},
   "source": [
    "## Histogram\n",
    "\n",
    "source: https://www.kaggle.com/code/alexisbcook/parsing-dates/tutorial"
   ]
  },
  {
   "cell_type": "code",
   "execution_count": 45,
   "id": "4f3c3daa",
   "metadata": {
    "ExecuteTime": {
     "end_time": "2022-04-15T20:44:58.503112Z",
     "start_time": "2022-04-15T20:44:58.464140Z"
    },
    "scrolled": true
   },
   "outputs": [
    {
     "name": "stdout",
     "output_type": "stream",
     "text": [
      "<class 'pandas.core.frame.DataFrame'>\n",
      "RangeIndex: 10000 entries, 0 to 9999\n",
      "Data columns (total 26 columns):\n",
      " #   Column                        Non-Null Count  Dtype         \n",
      "---  ------                        --------------  -----         \n",
      " 0   customer_id                   10000 non-null  int64         \n",
      " 1   disbursed_amount              10000 non-null  float64       \n",
      " 2   interest                      10000 non-null  float64       \n",
      " 3   market                        10000 non-null  object        \n",
      " 4   employment                    9389 non-null   object        \n",
      " 5   time_employed                 9471 non-null   object        \n",
      " 6   householder                   10000 non-null  object        \n",
      " 7   income                        10000 non-null  float64       \n",
      " 8   date_issued                   10000 non-null  datetime64[ns]\n",
      " 9   target                        10000 non-null  int64         \n",
      " 10  loan_purpose                  10000 non-null  object        \n",
      " 11  number_open_accounts          10000 non-null  float64       \n",
      " 12  date_last_payment             10000 non-null  datetime64[ns]\n",
      " 13  number_credit_lines_12        238 non-null    float64       \n",
      " 14  date_issued:year              10000 non-null  int64         \n",
      " 15  date_issued:month             10000 non-null  int64         \n",
      " 16  date_issued:day               10000 non-null  int64         \n",
      " 17  date_issued:day_of_week       10000 non-null  int64         \n",
      " 18  date_issued:day_of_year       10000 non-null  int64         \n",
      " 19  date_issued:hour              10000 non-null  int64         \n",
      " 20  date_issued:day_part          10000 non-null  object        \n",
      " 21  date_issued:is_year_start     10000 non-null  bool          \n",
      " 22  date_issued:is_quarter_start  10000 non-null  bool          \n",
      " 23  date_issued:is_month_start    10000 non-null  bool          \n",
      " 24  date_issued:is_month_end      10000 non-null  bool          \n",
      " 25  date_issued:is_weekend        10000 non-null  int32         \n",
      "dtypes: bool(4), datetime64[ns](2), float64(5), int32(1), int64(8), object(6)\n",
      "memory usage: 1.7+ MB\n"
     ]
    }
   ],
   "source": [
    "df.info()"
   ]
  },
  {
   "cell_type": "code",
   "execution_count": 61,
   "id": "69b7c805",
   "metadata": {
    "ExecuteTime": {
     "end_time": "2022-04-15T20:50:16.805147Z",
     "start_time": "2022-04-15T20:50:16.555509Z"
    }
   },
   "outputs": [
    {
     "data": {
      "text/plain": [
       "<AxesSubplot:xlabel='date_issued:day', ylabel='Count'>"
      ]
     },
     "execution_count": 61,
     "metadata": {},
     "output_type": "execute_result"
    },
    {
     "data": {
      "image/png": "[encoded data removed]",
      "text/plain": [
       "<Figure size 432x288 with 1 Axes>"
      ]
     },
     "metadata": {
      "needs_background": "light"
     },
     "output_type": "display_data"
    }
   ],
   "source": [
    "sns.histplot(df['date_issued:day'], kde=False, \n",
    "             bins=len(df['date_issued:day'].unique()))"
   ]
  },
  {
   "cell_type": "code",
   "execution_count": 64,
   "id": "a1ddf984",
   "metadata": {
    "ExecuteTime": {
     "end_time": "2022-04-15T20:50:34.416309Z",
     "start_time": "2022-04-15T20:50:34.213234Z"
    }
   },
   "outputs": [
    {
     "data": {
      "text/plain": [
       "''"
      ]
     },
     "execution_count": 64,
     "metadata": {},
     "output_type": "execute_result"
    },
    {
     "data": {
      "image/png": "[encoded data removed]",
      "text/plain": [
       "<Figure size 432x288 with 1 Axes>"
      ]
     },
     "metadata": {
      "needs_background": "light"
     },
     "output_type": "display_data"
    }
   ],
   "source": [
    "sns.histplot(df['date_issued:month'], kde=False, \n",
    "             bins=len(df['date_issued:month'].unique()))\n",
    ";"
   ]
  },
  {
   "cell_type": "code",
   "execution_count": 65,
   "id": "b6447594",
   "metadata": {
    "ExecuteTime": {
     "end_time": "2022-04-15T20:50:37.671599Z",
     "start_time": "2022-04-15T20:50:37.413178Z"
    }
   },
   "outputs": [
    {
     "data": {
      "text/plain": [
       "<AxesSubplot:xlabel='date_issued:year', ylabel='Count'>"
      ]
     },
     "execution_count": 65,
     "metadata": {},
     "output_type": "execute_result"
    },
    {
     "data": {
      "image/png": "[encoded data removed]",
      "text/plain": [
       "<Figure size 432x288 with 1 Axes>"
      ]
     },
     "metadata": {
      "needs_background": "light"
     },
     "output_type": "display_data"
    }
   ],
   "source": [
    "sns.histplot(df['date_issued:year'], kde=False, \n",
    "             bins=len(df['date_issued:year'].unique()))"
   ]
  },
  {
   "cell_type": "code",
   "execution_count": 60,
   "id": "79353369",
   "metadata": {
    "ExecuteTime": {
     "end_time": "2022-04-15T20:50:05.889573Z",
     "start_time": "2022-04-15T20:50:05.669567Z"
    }
   },
   "outputs": [
    {
     "data": {
      "text/plain": [
       "<AxesSubplot:xlabel='date_issued:day_of_week', ylabel='Count'>"
      ]
     },
     "execution_count": 60,
     "metadata": {},
     "output_type": "execute_result"
    },
    {
     "data": {
      "image/png": "[encoded data removed]",
      "text/plain": [
       "<Figure size 432x288 with 1 Axes>"
      ]
     },
     "metadata": {
      "needs_background": "light"
     },
     "output_type": "display_data"
    }
   ],
   "source": [
    "# date_issued:day_of_week\n",
    "sns.histplot(df['date_issued:day_of_week'], kde=False, \n",
    "             bins=len(df['date_issued:day_of_week'].unique()))"
   ]
  },
  {
   "cell_type": "markdown",
   "id": "01717b0e",
   "metadata": {},
   "source": [
    "## 2 source"
   ]
  },
  {
   "cell_type": "code",
   "execution_count": 66,
   "id": "9ad109b4",
   "metadata": {
    "ExecuteTime": {
     "end_time": "2022-04-15T20:52:44.781720Z",
     "start_time": "2022-04-15T20:52:44.484269Z"
    }
   },
   "outputs": [
    {
     "data": {
      "text/plain": [
       "<AxesSubplot:>"
      ]
     },
     "execution_count": 66,
     "metadata": {},
     "output_type": "execute_result"
    },
    {
     "data": {
      "image/png": "[encoded data removed]",
      "text/plain": [
       "<Figure size 432x288 with 1 Axes>"
      ]
     },
     "metadata": {
      "needs_background": "light"
     },
     "output_type": "display_data"
    }
   ],
   "source": [
    "df['date_issued'].value_counts().sort_values().plot.line()"
   ]
  },
  {
   "cell_type": "code",
   "execution_count": 67,
   "id": "aa2e938a",
   "metadata": {
    "ExecuteTime": {
     "end_time": "2022-04-15T20:53:16.132006Z",
     "start_time": "2022-04-15T20:53:15.867986Z"
    }
   },
   "outputs": [
    {
     "data": {
      "text/plain": [
       "<AxesSubplot:>"
      ]
     },
     "execution_count": 67,
     "metadata": {},
     "output_type": "execute_result"
    },
    {
     "data": {
      "image/png": "[encoded data removed]",
      "text/plain": [
       "<Figure size 432x288 with 1 Axes>"
      ]
     },
     "metadata": {
      "needs_background": "light"
     },
     "output_type": "display_data"
    }
   ],
   "source": [
    "df['date_issued'].value_counts().resample('Y').sum().plot.line()"
   ]
  },
  {
   "cell_type": "markdown",
   "id": "5ad5a093",
   "metadata": {},
   "source": [
    "# Testando fast-ml"
   ]
  },
  {
   "cell_type": "code",
   "execution_count": 72,
   "id": "4d0145a4",
   "metadata": {
    "ExecuteTime": {
     "end_time": "2022-04-15T21:13:26.787717Z",
     "start_time": "2022-04-15T21:13:26.738755Z"
    }
   },
   "outputs": [],
   "source": [
    "from fast_ml import eda\n",
    "from fast_ml.utilities import reduce_memory_usage, display_all\n",
    "\n",
    "# reduces the memory usage of the dataset by optimizing for the datatype used for storing the data\n",
    "df3 = pd.read_csv(\"./datasets/loan.csv\")\n",
    "df3 = reduce_memory_usage(df3, convert_to_category=False)"
   ]
  },
  {
   "cell_type": "code",
   "execution_count": 73,
   "id": "69b71bbd",
   "metadata": {
    "ExecuteTime": {
     "end_time": "2022-04-15T21:13:29.218428Z",
     "start_time": "2022-04-15T21:13:29.139214Z"
    }
   },
   "outputs": [
    {
     "data": {
      "text/html": [
       "<div>\n",
       "<style scoped>\n",
       "    .dataframe tbody tr th:only-of-type {\n",
       "        vertical-align: middle;\n",
       "    }\n",
       "\n",
       "    .dataframe tbody tr th {\n",
       "        vertical-align: top;\n",
       "    }\n",
       "\n",
       "    .dataframe thead th {\n",
       "        text-align: right;\n",
       "    }\n",
       "</style>\n",
       "<table border=\"1\" class=\"dataframe\">\n",
       "  <thead>\n",
       "    <tr style=\"text-align: right;\">\n",
       "      <th></th>\n",
       "      <th>data_type</th>\n",
       "      <th>data_type_grp</th>\n",
       "      <th>num_unique_values</th>\n",
       "      <th>sample_unique_values</th>\n",
       "      <th>num_missing</th>\n",
       "      <th>perc_missing</th>\n",
       "    </tr>\n",
       "  </thead>\n",
       "  <tbody>\n",
       "    <tr>\n",
       "      <th>customer_id</th>\n",
       "      <td>int16</td>\n",
       "      <td>Numerical</td>\n",
       "      <td>10000</td>\n",
       "      <td>[0, 1, 2, 3, 4, 5, 6, 7, 8, 9]</td>\n",
       "      <td>0</td>\n",
       "      <td>0.0</td>\n",
       "    </tr>\n",
       "    <tr>\n",
       "      <th>disbursed_amount</th>\n",
       "      <td>float16</td>\n",
       "      <td>Numerical</td>\n",
       "      <td>1891</td>\n",
       "      <td>[23200.0, 7424.0, 11152.0, 7600.0, 31968.0, 82...</td>\n",
       "      <td>0</td>\n",
       "      <td>0.0</td>\n",
       "    </tr>\n",
       "    <tr>\n",
       "      <th>interest</th>\n",
       "      <td>float16</td>\n",
       "      <td>Numerical</td>\n",
       "      <td>1283</td>\n",
       "      <td>[15.484375, 11.203125, 8.5078125, 5.8671875, 1...</td>\n",
       "      <td>0</td>\n",
       "      <td>0.0</td>\n",
       "    </tr>\n",
       "    <tr>\n",
       "      <th>market</th>\n",
       "      <td>object</td>\n",
       "      <td>Categorical</td>\n",
       "      <td>5</td>\n",
       "      <td>[C, B, A, E, D]</td>\n",
       "      <td>0</td>\n",
       "      <td>0.0</td>\n",
       "    </tr>\n",
       "    <tr>\n",
       "      <th>employment</th>\n",
       "      <td>object</td>\n",
       "      <td>Categorical</td>\n",
       "      <td>11</td>\n",
       "      <td>[Teacher, Accountant, Statistician, Other, Bus...</td>\n",
       "      <td>611</td>\n",
       "      <td>6.11</td>\n",
       "    </tr>\n",
       "    <tr>\n",
       "      <th>time_employed</th>\n",
       "      <td>object</td>\n",
       "      <td>Categorical</td>\n",
       "      <td>2</td>\n",
       "      <td>[&lt;=5 years, &gt;5 years, nan]</td>\n",
       "      <td>529</td>\n",
       "      <td>5.29</td>\n",
       "    </tr>\n",
       "    <tr>\n",
       "      <th>householder</th>\n",
       "      <td>object</td>\n",
       "      <td>Categorical</td>\n",
       "      <td>3</td>\n",
       "      <td>[RENT, OWNER, MORTGAGE]</td>\n",
       "      <td>0</td>\n",
       "      <td>0.0</td>\n",
       "    </tr>\n",
       "    <tr>\n",
       "      <th>income</th>\n",
       "      <td>float32</td>\n",
       "      <td>Numerical</td>\n",
       "      <td>2891</td>\n",
       "      <td>[84600.0, 102000.0, 69840.0, 100386.0, 95040.0...</td>\n",
       "      <td>0</td>\n",
       "      <td>0.0</td>\n",
       "    </tr>\n",
       "    <tr>\n",
       "      <th>date_issued</th>\n",
       "      <td>object</td>\n",
       "      <td>Categorical</td>\n",
       "      <td>1642</td>\n",
       "      <td>[2013-06-11, 2014-05-08, 2013-10-26, 2015-08-2...</td>\n",
       "      <td>0</td>\n",
       "      <td>0.0</td>\n",
       "    </tr>\n",
       "    <tr>\n",
       "      <th>target</th>\n",
       "      <td>int8</td>\n",
       "      <td>Numerical</td>\n",
       "      <td>2</td>\n",
       "      <td>[0, 1]</td>\n",
       "      <td>0</td>\n",
       "      <td>0.0</td>\n",
       "    </tr>\n",
       "    <tr>\n",
       "      <th>loan_purpose</th>\n",
       "      <td>object</td>\n",
       "      <td>Categorical</td>\n",
       "      <td>8</td>\n",
       "      <td>[Debt consolidation, Car purchase, Other, Home...</td>\n",
       "      <td>0</td>\n",
       "      <td>0.0</td>\n",
       "    </tr>\n",
       "    <tr>\n",
       "      <th>number_open_accounts</th>\n",
       "      <td>float16</td>\n",
       "      <td>Numerical</td>\n",
       "      <td>45</td>\n",
       "      <td>[4.0, 13.0, 8.0, 20.0, 14.0, 5.0, 9.0, 18.0, 1...</td>\n",
       "      <td>0</td>\n",
       "      <td>0.0</td>\n",
       "    </tr>\n",
       "    <tr>\n",
       "      <th>date_last_payment</th>\n",
       "      <td>object</td>\n",
       "      <td>Categorical</td>\n",
       "      <td>1071</td>\n",
       "      <td>[2016-01-14, 2016-01-25, 2014-09-26, 2016-01-2...</td>\n",
       "      <td>0</td>\n",
       "      <td>0.0</td>\n",
       "    </tr>\n",
       "    <tr>\n",
       "      <th>number_credit_lines_12</th>\n",
       "      <td>float16</td>\n",
       "      <td>Numerical</td>\n",
       "      <td>7</td>\n",
       "      <td>[nan, 2.0, 4.0, 1.0, 0.0, 3.0, 5.0, 6.0]</td>\n",
       "      <td>9762</td>\n",
       "      <td>97.62</td>\n",
       "    </tr>\n",
       "  </tbody>\n",
       "</table>\n",
       "</div>"
      ],
      "text/plain": [
       "                       data_type data_type_grp num_unique_values  \\\n",
       "customer_id                int16     Numerical             10000   \n",
       "disbursed_amount         float16     Numerical              1891   \n",
       "interest                 float16     Numerical              1283   \n",
       "market                    object   Categorical                 5   \n",
       "employment                object   Categorical                11   \n",
       "time_employed             object   Categorical                 2   \n",
       "householder               object   Categorical                 3   \n",
       "income                   float32     Numerical              2891   \n",
       "date_issued               object   Categorical              1642   \n",
       "target                      int8     Numerical                 2   \n",
       "loan_purpose              object   Categorical                 8   \n",
       "number_open_accounts     float16     Numerical                45   \n",
       "date_last_payment         object   Categorical              1071   \n",
       "number_credit_lines_12   float16     Numerical                 7   \n",
       "\n",
       "                                                     sample_unique_values  \\\n",
       "customer_id                                [0, 1, 2, 3, 4, 5, 6, 7, 8, 9]   \n",
       "disbursed_amount        [23200.0, 7424.0, 11152.0, 7600.0, 31968.0, 82...   \n",
       "interest                [15.484375, 11.203125, 8.5078125, 5.8671875, 1...   \n",
       "market                                                    [C, B, A, E, D]   \n",
       "employment              [Teacher, Accountant, Statistician, Other, Bus...   \n",
       "time_employed                                  [<=5 years, >5 years, nan]   \n",
       "householder                                       [RENT, OWNER, MORTGAGE]   \n",
       "income                  [84600.0, 102000.0, 69840.0, 100386.0, 95040.0...   \n",
       "date_issued             [2013-06-11, 2014-05-08, 2013-10-26, 2015-08-2...   \n",
       "target                                                             [0, 1]   \n",
       "loan_purpose            [Debt consolidation, Car purchase, Other, Home...   \n",
       "number_open_accounts    [4.0, 13.0, 8.0, 20.0, 14.0, 5.0, 9.0, 18.0, 1...   \n",
       "date_last_payment       [2016-01-14, 2016-01-25, 2014-09-26, 2016-01-2...   \n",
       "number_credit_lines_12           [nan, 2.0, 4.0, 1.0, 0.0, 3.0, 5.0, 6.0]   \n",
       "\n",
       "                       num_missing perc_missing  \n",
       "customer_id                      0          0.0  \n",
       "disbursed_amount                 0          0.0  \n",
       "interest                         0          0.0  \n",
       "market                           0          0.0  \n",
       "employment                     611         6.11  \n",
       "time_employed                  529         5.29  \n",
       "householder                      0          0.0  \n",
       "income                           0          0.0  \n",
       "date_issued                      0          0.0  \n",
       "target                           0          0.0  \n",
       "loan_purpose                     0          0.0  \n",
       "number_open_accounts             0          0.0  \n",
       "date_last_payment                0          0.0  \n",
       "number_credit_lines_12        9762        97.62  "
      ]
     },
     "metadata": {},
     "output_type": "display_data"
    }
   ],
   "source": [
    "\n",
    "summary_df = eda.df_info(df3)\n",
    "display_all(summary_df)"
   ]
  },
  {
   "cell_type": "code",
   "execution_count": null,
   "id": "920ed880",
   "metadata": {},
   "outputs": [],
   "source": []
  }
 ],
 "metadata": {
  "kernelspec": {
   "display_name": "Python 3 (ipykernel)",
   "language": "python",
   "name": "python3"
  },
  "language_info": {
   "codemirror_mode": {
    "name": "ipython",
    "version": 3
   },
   "file_extension": ".py",
   "mimetype": "text/x-python",
   "name": "python",
   "nbconvert_exporter": "python",
   "pygments_lexer": "ipython3",
   "version": "3.10.4"
  },
  "toc": {
   "base_numbering": 1,
   "nav_menu": {},
   "number_sections": true,
   "sideBar": true,
   "skip_h1_title": false,
   "title_cell": "Table of Contents",
   "title_sidebar": "Contents",
   "toc_cell": false,
   "toc_position": {},
   "toc_section_display": true,
   "toc_window_display": false
  },
  "varInspector": {
   "cols": {
    "lenName": 16,
    "lenType": 16,
    "lenVar": 40
   },
   "kernels_config": {
    "python": {
     "delete_cmd_postfix": "",
     "delete_cmd_prefix": "del ",
     "library": "var_list.py",
     "varRefreshCmd": "print(var_dic_list())"
    },
    "r": {
     "delete_cmd_postfix": ") ",
     "delete_cmd_prefix": "rm(",
     "library": "var_list.r",
     "varRefreshCmd": "cat(var_dic_list()) "
    }
   },
   "types_to_exclude": [
    "module",
    "function",
    "builtin_function_or_method",
    "instance",
    "_Feature"
   ],
   "window_display": false
  }
 },
 "nbformat": 4,
 "nbformat_minor": 5
}
